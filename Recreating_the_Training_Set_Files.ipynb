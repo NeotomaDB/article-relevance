{
 "cells": [
  {
   "cell_type": "code",
   "execution_count": 1,
   "metadata": {},
   "outputs": [
    {
     "name": "stderr",
     "output_type": "stream",
     "text": [
      "/Users/sedv8808/HT-Data/UWisc/article-relevance/venv/lib/python3.11/site-packages/tqdm/auto.py:21: TqdmWarning: IProgress not found. Please update jupyter and ipywidgets. See https://ipywidgets.readthedocs.io/en/stable/user_install.html\n",
      "  from .autonotebook import tqdm as notebook_tqdm\n"
     ]
    }
   ],
   "source": [
    "import pandas as pd\n",
    "import numpy as np\n",
    "#from logs import get_logger\n",
    "import src.article_relevance as ar"
   ]
  },
  {
   "cell_type": "markdown",
   "metadata": {},
   "source": [
    "# Notebook to Prepare 3 Training PQ Files"
   ]
  },
  {
   "cell_type": "markdown",
   "metadata": {},
   "source": [
    "## Fixed Neotoma & Pollen files from CrossRef"
   ]
  },
  {
   "cell_type": "code",
   "execution_count": 2,
   "metadata": {},
   "outputs": [],
   "source": [
    "neotoma_fixed = pd.read_csv('data/raw/neotoma_crossref_fixed.csv')\n",
    "pollenDF = pd.read_csv('data/raw/pollen_doc_labels.csv')"
   ]
  },
  {
   "cell_type": "markdown",
   "metadata": {},
   "source": [
    "Extracting DOIs and extracing data from CrossRef"
   ]
  },
  {
   "cell_type": "code",
   "execution_count": 3,
   "metadata": {},
   "outputs": [
    {
     "name": "stderr",
     "output_type": "stream",
     "text": [
      "/Users/sedv8808/HT-Data/UWisc/article-relevance/src/article_relevance/crossRefQuery.py:25: Warning: DOI 10.1016/j.quascirev.2016.09.023. not found in CrossRef\n",
      "  warnings.warn(warning_msg, category=Warning)\n",
      "/Users/sedv8808/HT-Data/UWisc/article-relevance/src/article_relevance/crossRefQuery.py:25: Warning: DOI fiedel, s.j. 2018. the spore conundrum: does a dung fungus decline signal humans' arrival in the eastern united states?. quaternary international 466:247e255. [doi: doi.org/10.1016/j.quaint.2015.11.130] not found in CrossRef\n",
      "  warnings.warn(warning_msg, category=Warning)\n",
      "/Users/sedv8808/HT-Data/UWisc/article-relevance/src/article_relevance/crossRefQuery.py:25: Warning: DOI widga, c., s.n. lengyel, j. saunders, g. hodgins, j.d. walker, and a.d. wanamaker. 2017. late pleistocene proboscidean population dynamics in the north american midcontinent. boreas 46(4):772-782. [doi: 10.1111/bor.12235] not found in CrossRef\n",
      "  warnings.warn(warning_msg, category=Warning)\n",
      "/Users/sedv8808/HT-Data/UWisc/article-relevance/src/article_relevance/crossRefQuery.py:25: Warning: DOI 10.2307/1551050   not found in CrossRef\n",
      "  warnings.warn(warning_msg, category=Warning)\n",
      "/Users/sedv8808/HT-Data/UWisc/article-relevance/src/article_relevance/crossRefQuery.py:25: Warning: DOI overstreet, d.f., and m.f. kolb. 2003. geoarchaeological contexts for late pleistocene archaeological sites with human‐modified woolly mammoth remains in southeastern wisconsin, usa. geoarchaeology 18(1):91-114. [doi: doi:10.1002/gea.10052] not found in CrossRef\n",
      "  warnings.warn(warning_msg, category=Warning)\n",
      "/Users/sedv8808/HT-Data/UWisc/article-relevance/src/article_relevance/crossRefQuery.py:25: Warning: DOI joyce, d.j. 2006. chronology and new research on the schaefer mammoth (? mammuthus primigenius) site, kenosha county, wisconsin, usa,. quaternary international 142:44-57. [doi: doi:10.1016/j.quaint.2005.03.004] not found in CrossRef\n",
      "  warnings.warn(warning_msg, category=Warning)\n",
      "/Users/sedv8808/HT-Data/UWisc/article-relevance/src/article_relevance/crossRefQuery.py:25: Warning: DOI 10.2307/1551601   not found in CrossRef\n",
      "  warnings.warn(warning_msg, category=Warning)\n",
      "/Users/sedv8808/HT-Data/UWisc/article-relevance/src/article_relevance/crossRefQuery.py:25: Warning: DOI 10.1016/j.revpalbo.2004.09.004   not found in CrossRef\n",
      "  warnings.warn(warning_msg, category=Warning)\n",
      "/Users/sedv8808/HT-Data/UWisc/article-relevance/src/article_relevance/crossRefQuery.py:25: Warning: DOI 10.3760/cma.j.cn112150-20220508-00458 not found in CrossRef\n",
      "  warnings.warn(warning_msg, category=Warning)\n",
      "/Users/sedv8808/HT-Data/UWisc/article-relevance/src/article_relevance/crossRefQuery.py:25: Warning: DOI 10.1093/lambio/ovac017 not found in CrossRef\n",
      "  warnings.warn(warning_msg, category=Warning)\n",
      "/Users/sedv8808/HT-Data/UWisc/article-relevance/src/article_relevance/crossRefQuery.py:25: Warning: DOI 10.13345/j.cjb.220336 not found in CrossRef\n",
      "  warnings.warn(warning_msg, category=Warning)\n",
      "/Users/sedv8808/HT-Data/UWisc/article-relevance/src/article_relevance/crossRefQuery.py:25: Warning: DOI 10.4103/ijd.ijd_405_22 not found in CrossRef\n",
      "  warnings.warn(warning_msg, category=Warning)\n",
      "/Users/sedv8808/HT-Data/UWisc/article-relevance/src/article_relevance/crossRefQuery.py:25: Warning: DOI 10.13201/j.issn.2096-7993.2023.05.012 not found in CrossRef\n",
      "  warnings.warn(warning_msg, category=Warning)\n",
      "/Users/sedv8808/HT-Data/UWisc/article-relevance/src/article_relevance/crossRefQuery.py:25: Warning: DOI nan not found in CrossRef\n",
      "  warnings.warn(warning_msg, category=Warning)\n",
      "/Users/sedv8808/HT-Data/UWisc/article-relevance/src/article_relevance/crossRefQuery.py:25: Warning: DOI 10.15036/arerugi.72.18 not found in CrossRef\n",
      "  warnings.warn(warning_msg, category=Warning)\n"
     ]
    }
   ],
   "source": [
    "neotomaCrossRef = ar.crossRefQuery(neotoma_fixed['doi'].unique().tolist())\n",
    "pollenCrossRef =  ar.crossRefQuery(pollenDF['doi'].unique().tolist())"
   ]
  },
  {
   "cell_type": "markdown",
   "metadata": {},
   "source": [
    "Concatenate the two dataframes."
   ]
  },
  {
   "cell_type": "code",
   "execution_count": 4,
   "metadata": {},
   "outputs": [],
   "source": [
    "df = pd.concat([neotomaCrossRef, pollenCrossRef])\n",
    "df = df.reset_index(drop=True)"
   ]
  },
  {
   "cell_type": "code",
   "execution_count": 5,
   "metadata": {},
   "outputs": [
    {
     "data": {
      "text/html": [
       "<div>\n",
       "<style scoped>\n",
       "    .dataframe tbody tr th:only-of-type {\n",
       "        vertical-align: middle;\n",
       "    }\n",
       "\n",
       "    .dataframe tbody tr th {\n",
       "        vertical-align: top;\n",
       "    }\n",
       "\n",
       "    .dataframe thead th {\n",
       "        text-align: right;\n",
       "    }\n",
       "</style>\n",
       "<table border=\"1\" class=\"dataframe\">\n",
       "  <thead>\n",
       "    <tr style=\"text-align: right;\">\n",
       "      <th></th>\n",
       "      <th>DOI</th>\n",
       "      <th>title</th>\n",
       "      <th>subtitle</th>\n",
       "      <th>author</th>\n",
       "      <th>subject</th>\n",
       "      <th>abstract</th>\n",
       "      <th>container-title</th>\n",
       "      <th>language</th>\n",
       "      <th>published</th>\n",
       "      <th>publisher</th>\n",
       "      <th>URL</th>\n",
       "      <th>CrossRefQueryDate</th>\n",
       "    </tr>\n",
       "  </thead>\n",
       "  <tbody>\n",
       "    <tr>\n",
       "      <th>0</th>\n",
       "      <td>10.1016/j.palaeo.2007.07.008</td>\n",
       "      <td>[Vegetation and fire history during the last 1...</td>\n",
       "      <td>[]</td>\n",
       "      <td>[{'given': 'Vera', 'family': 'Markgraf', 'sequ...</td>\n",
       "      <td>[Paleontology, Earth-Surface Processes, Ecolog...</td>\n",
       "      <td></td>\n",
       "      <td>[Palaeogeography, Palaeoclimatology, Palaeoeco...</td>\n",
       "      <td>en</td>\n",
       "      <td>{'date-parts': [[2007, 10]]}</td>\n",
       "      <td>Elsevier BV</td>\n",
       "      <td>http://dx.doi.org/10.1016/j.palaeo.2007.07.008</td>\n",
       "      <td>2023-09-12 13:50:32.389184</td>\n",
       "    </tr>\n",
       "    <tr>\n",
       "      <th>1</th>\n",
       "      <td>10.1016/j.quascirev.2015.03.014</td>\n",
       "      <td>[The origin of grasslands in the temperate for...</td>\n",
       "      <td>[]</td>\n",
       "      <td>[{'ORCID': 'http://orcid.org/0000-0001-9605-82...</td>\n",
       "      <td>[Geology, Archeology, Archeology, Ecology, Evo...</td>\n",
       "      <td></td>\n",
       "      <td>[Quaternary Science Reviews]</td>\n",
       "      <td>en</td>\n",
       "      <td>{'date-parts': [[2015, 5]]}</td>\n",
       "      <td>Elsevier BV</td>\n",
       "      <td>http://dx.doi.org/10.1016/j.quascirev.2015.03.014</td>\n",
       "      <td>2023-09-12 13:50:32.769019</td>\n",
       "    </tr>\n",
       "  </tbody>\n",
       "</table>\n",
       "</div>"
      ],
      "text/plain": [
       "                               DOI  \\\n",
       "0     10.1016/j.palaeo.2007.07.008   \n",
       "1  10.1016/j.quascirev.2015.03.014   \n",
       "\n",
       "                                               title subtitle  \\\n",
       "0  [Vegetation and fire history during the last 1...       []   \n",
       "1  [The origin of grasslands in the temperate for...       []   \n",
       "\n",
       "                                              author  \\\n",
       "0  [{'given': 'Vera', 'family': 'Markgraf', 'sequ...   \n",
       "1  [{'ORCID': 'http://orcid.org/0000-0001-9605-82...   \n",
       "\n",
       "                                             subject abstract  \\\n",
       "0  [Paleontology, Earth-Surface Processes, Ecolog...            \n",
       "1  [Geology, Archeology, Archeology, Ecology, Evo...            \n",
       "\n",
       "                                     container-title language  \\\n",
       "0  [Palaeogeography, Palaeoclimatology, Palaeoeco...       en   \n",
       "1                       [Quaternary Science Reviews]       en   \n",
       "\n",
       "                      published    publisher  \\\n",
       "0  {'date-parts': [[2007, 10]]}  Elsevier BV   \n",
       "1   {'date-parts': [[2015, 5]]}  Elsevier BV   \n",
       "\n",
       "                                                 URL  \\\n",
       "0     http://dx.doi.org/10.1016/j.palaeo.2007.07.008   \n",
       "1  http://dx.doi.org/10.1016/j.quascirev.2015.03.014   \n",
       "\n",
       "           CrossRefQueryDate  \n",
       "0 2023-09-12 13:50:32.389184  \n",
       "1 2023-09-12 13:50:32.769019  "
      ]
     },
     "execution_count": 5,
     "metadata": {},
     "output_type": "execute_result"
    }
   ],
   "source": [
    "df.head(2)"
   ]
  },
  {
   "cell_type": "code",
   "execution_count": 6,
   "metadata": {},
   "outputs": [],
   "source": [
    "#df.to_csv('data/raw/data_full.csv',  index=False)"
   ]
  },
  {
   "cell_type": "code",
   "execution_count": null,
   "metadata": {},
   "outputs": [],
   "source": [
    "#df = pd.read_csv('data/raw/data_full.csv')\n",
    "#df.head(2)"
   ]
  },
  {
   "cell_type": "code",
   "execution_count": 7,
   "metadata": {},
   "outputs": [
    {
     "name": "stdout",
     "output_type": "stream",
     "text": [
      "2023-09-12 14:00:12,415 - dataPreprocessing.py:22 - dataPreprocessing - INFO - Prediction data preprocessing begin.\n",
      "2023-09-12 14:00:12,453 - dataPreprocessing.py:70 - dataPreprocessing - INFO - Running article language imputation.\n",
      "2023-09-12 14:00:12,463 - dataPreprocessing.py:86 - dataPreprocessing - INFO - 151 articles require language imputation\n",
      "2023-09-12 14:00:12,464 - dataPreprocessing.py:88 - dataPreprocessing - INFO - 5 cannot be imputed due to too short text metadata(title, subtitle and abstract less than 5 character).\n",
      "2023-09-12 14:00:13,845 - dataPreprocessing.py:96 - dataPreprocessing - INFO - Missing language imputation completed\n",
      "2023-09-12 14:00:13,851 - dataPreprocessing.py:97 - dataPreprocessing - INFO - After imputation, there are 14 non-English articles in total excluded from the prediction pipeline.\n",
      "dup cols\n",
      "Index([], dtype='object')\n"
     ]
    }
   ],
   "source": [
    "preprocessedDF = ar.dataPreprocessing(df)"
   ]
  },
  {
   "cell_type": "code",
   "execution_count": 8,
   "metadata": {},
   "outputs": [
    {
     "data": {
      "text/html": [
       "<div>\n",
       "<style scoped>\n",
       "    .dataframe tbody tr th:only-of-type {\n",
       "        vertical-align: middle;\n",
       "    }\n",
       "\n",
       "    .dataframe tbody tr th {\n",
       "        vertical-align: top;\n",
       "    }\n",
       "\n",
       "    .dataframe thead th {\n",
       "        text-align: right;\n",
       "    }\n",
       "</style>\n",
       "<table border=\"1\" class=\"dataframe\">\n",
       "  <thead>\n",
       "    <tr style=\"text-align: right;\">\n",
       "      <th></th>\n",
       "      <th>CrossRefQueryDate</th>\n",
       "      <th>DOI</th>\n",
       "      <th>URL</th>\n",
       "      <th>abstract</th>\n",
       "      <th>author</th>\n",
       "      <th>container-title</th>\n",
       "      <th>language</th>\n",
       "      <th>published</th>\n",
       "      <th>publisher</th>\n",
       "      <th>subject</th>\n",
       "      <th>subtitle</th>\n",
       "      <th>title</th>\n",
       "      <th>titleSubtitleAbstract</th>\n",
       "      <th>validForPrediction</th>\n",
       "    </tr>\n",
       "  </thead>\n",
       "  <tbody>\n",
       "    <tr>\n",
       "      <th>0</th>\n",
       "      <td>2023-09-12 13:50:32.389184</td>\n",
       "      <td>10.1016/j.palaeo.2007.07.008</td>\n",
       "      <td>http://dx.doi.org/10.1016/j.palaeo.2007.07.008</td>\n",
       "      <td></td>\n",
       "      <td>[{'given': 'Vera', 'family': 'Markgraf', 'sequ...</td>\n",
       "      <td>[Palaeogeography, Palaeoclimatology, Palaeoeco...</td>\n",
       "      <td>en</td>\n",
       "      <td>{'date-parts': [[2007, 10]]}</td>\n",
       "      <td>Elsevier BV</td>\n",
       "      <td>[Paleontology, Earth-Surface Processes, Ecolog...</td>\n",
       "      <td></td>\n",
       "      <td>Vegetation and fire history during the last 18...</td>\n",
       "      <td>vegetation and fire history during the last 18...</td>\n",
       "      <td>1</td>\n",
       "    </tr>\n",
       "    <tr>\n",
       "      <th>1</th>\n",
       "      <td>2023-09-12 13:50:32.769019</td>\n",
       "      <td>10.1016/j.quascirev.2015.03.014</td>\n",
       "      <td>http://dx.doi.org/10.1016/j.quascirev.2015.03.014</td>\n",
       "      <td></td>\n",
       "      <td>[{'ORCID': 'http://orcid.org/0000-0001-9605-82...</td>\n",
       "      <td>[Quaternary Science Reviews]</td>\n",
       "      <td>en</td>\n",
       "      <td>{'date-parts': [[2015, 5]]}</td>\n",
       "      <td>Elsevier BV</td>\n",
       "      <td>[Geology, Archeology, Archeology, Ecology, Evo...</td>\n",
       "      <td></td>\n",
       "      <td>The origin of grasslands in the temperate fore...</td>\n",
       "      <td>the origin of grasslands in the temperate fore...</td>\n",
       "      <td>1</td>\n",
       "    </tr>\n",
       "  </tbody>\n",
       "</table>\n",
       "</div>"
      ],
      "text/plain": [
       "           CrossRefQueryDate                              DOI  \\\n",
       "0 2023-09-12 13:50:32.389184     10.1016/j.palaeo.2007.07.008   \n",
       "1 2023-09-12 13:50:32.769019  10.1016/j.quascirev.2015.03.014   \n",
       "\n",
       "                                                 URL abstract  \\\n",
       "0     http://dx.doi.org/10.1016/j.palaeo.2007.07.008            \n",
       "1  http://dx.doi.org/10.1016/j.quascirev.2015.03.014            \n",
       "\n",
       "                                              author  \\\n",
       "0  [{'given': 'Vera', 'family': 'Markgraf', 'sequ...   \n",
       "1  [{'ORCID': 'http://orcid.org/0000-0001-9605-82...   \n",
       "\n",
       "                                     container-title language  \\\n",
       "0  [Palaeogeography, Palaeoclimatology, Palaeoeco...       en   \n",
       "1                       [Quaternary Science Reviews]       en   \n",
       "\n",
       "                      published    publisher  \\\n",
       "0  {'date-parts': [[2007, 10]]}  Elsevier BV   \n",
       "1   {'date-parts': [[2015, 5]]}  Elsevier BV   \n",
       "\n",
       "                                             subject subtitle  \\\n",
       "0  [Paleontology, Earth-Surface Processes, Ecolog...            \n",
       "1  [Geology, Archeology, Archeology, Ecology, Evo...            \n",
       "\n",
       "                                               title  \\\n",
       "0  Vegetation and fire history during the last 18...   \n",
       "1  The origin of grasslands in the temperate fore...   \n",
       "\n",
       "                               titleSubtitleAbstract  validForPrediction  \n",
       "0  vegetation and fire history during the last 18...                   1  \n",
       "1  the origin of grasslands in the temperate fore...                   1  "
      ]
     },
     "execution_count": 8,
     "metadata": {},
     "output_type": "execute_result"
    }
   ],
   "source": [
    "preprocessedDF.head(2)"
   ]
  },
  {
   "cell_type": "markdown",
   "metadata": {},
   "source": [
    "Save this as 1 parquet file."
   ]
  },
  {
   "cell_type": "code",
   "execution_count": 13,
   "metadata": {},
   "outputs": [],
   "source": [
    "preprocessedDF.to_parquet('data/raw/processedDF.parquet', engine='fastparquet', compression='snappy')"
   ]
  },
  {
   "cell_type": "code",
   "execution_count": 14,
   "metadata": {},
   "outputs": [
    {
     "data": {
      "text/plain": [
       "Index([], dtype='object')"
      ]
     },
     "execution_count": 14,
     "metadata": {},
     "output_type": "execute_result"
    }
   ],
   "source": [
    "preprocessedDF.columns[preprocessedDF.columns.duplicated()]\n"
   ]
  },
  {
   "cell_type": "markdown",
   "metadata": {},
   "source": [
    "## Annotation Data File\n",
    "\n",
    "We need a 2nd file that contains the following info:\n",
    "```python\n",
    "['DOI', 'Annotation', 'Annotator', 'Annotation_Date']\n",
    "```\n",
    "\n",
    "In the `pollen.csv` file Dr. Goring has done already some manual annotation of whether a particular article would belong to Neotoma or not. All files in the `neotoma.csv` file belong to Neotoma. \n",
    "\n",
    "In a different setting, this annotations would be made using the **Data Review Tool** and stored to complement the parquet file, for now, I am going to do a JSON"
   ]
  },
  {
   "cell_type": "code",
   "execution_count": null,
   "metadata": {},
   "outputs": [],
   "source": [
    "from datetime import datetime\n",
    "annotation_cols = ['DOI', 'annotation', 'annotator', 'annotationDate']"
   ]
  },
  {
   "cell_type": "code",
   "execution_count": null,
   "metadata": {},
   "outputs": [],
   "source": [
    "neotoma_fixed['DOI'] = neotoma_fixed['doi']\n",
    "neotoma_fixed['annotation'] = 'Neotoma'\n",
    "neotoma_fixed['annotator'] = 'Simon J. Goring'\n",
    "neotoma_fixed['annotationDate'] = datetime.now()\n",
    "neotoma_fixed['annotationDate'] = neotoma_fixed['annotationDate'].apply(lambda x: x.strftime('%Y-%m-%d %H:%M:%S'))\n",
    "neotomaAnnotation = neotoma_fixed[annotation_cols]"
   ]
  },
  {
   "cell_type": "code",
   "execution_count": null,
   "metadata": {},
   "outputs": [],
   "source": [
    "pollenDF['DOI'] = pollenDF['doi']\n",
    "pollenDF['annotation'] = pollenDF['Label']\n",
    "pollenDF['annotator'] = pollenDF['Profile']\n",
    "pollenDF['annotationDate'] = pollenDF['Timestamp']\n",
    "#pollenDF['annotationDate'] = pollenDF['annotationDate'].apply(lambda x: x.strftime('%Y-%m-%d %H:%M:%S'))\n",
    "pollenAnnotation = pollenDF[annotation_cols]"
   ]
  },
  {
   "cell_type": "code",
   "execution_count": null,
   "metadata": {},
   "outputs": [],
   "source": [
    "fullAnnotation = pd.concat([neotomaAnnotation, pollenAnnotation])\n",
    "fullAnnotation = fullAnnotation.reset_index()"
   ]
  },
  {
   "cell_type": "code",
   "execution_count": null,
   "metadata": {},
   "outputs": [],
   "source": [
    "fullAnnotation.to_parquet('data/parquet/neotomaAnnotation.parquet', index=False)"
   ]
  },
  {
   "cell_type": "markdown",
   "metadata": {},
   "source": [
    "## Prediction Parquet\n",
    "\n",
    "The Prediction PQ file will contain the following columns:\n",
    "```python\n",
    "['DOI', 'prediction', 'predict_proba', 'model_metadata', 'prediction_date']\n",
    "```"
   ]
  },
  {
   "cell_type": "markdown",
   "metadata": {},
   "source": [
    "Embed the data using the provided functions (this has been previously trained)."
   ]
  },
  {
   "cell_type": "code",
   "execution_count": null,
   "metadata": {},
   "outputs": [],
   "source": [
    "embeddedData = ar.addEmbeddings(preprocessedDF, 'titleSubtitleAbstract')"
   ]
  },
  {
   "cell_type": "markdown",
   "metadata": {},
   "source": [
    "Do the predictions using the AWS model"
   ]
  },
  {
   "cell_type": "code",
   "execution_count": null,
   "metadata": {},
   "outputs": [],
   "source": [
    "embeddedData.loc[:, 'is-referenced-by-count'] = 0\n",
    "predictionsDF = ar.relevancePredict(embeddedData, AWS = True)"
   ]
  },
  {
   "cell_type": "code",
   "execution_count": null,
   "metadata": {},
   "outputs": [],
   "source": [
    "embeddedData"
   ]
  },
  {
   "cell_type": "code",
   "execution_count": null,
   "metadata": {},
   "outputs": [],
   "source": [
    "predictionsDF.head()"
   ]
  },
  {
   "cell_type": "code",
   "execution_count": null,
   "metadata": {},
   "outputs": [],
   "source": [
    "predictionsDF['prediction_date'] = datetime.now()\n",
    "predictionsDF['prediction_date'] = predictionsDF['prediction_date'].apply(lambda x: x.strftime('%Y-%m-%d %H:%M:%S'))\n",
    "predictionsDF['DOI'] = predictionsDF['DOI'].apply(str)"
   ]
  },
  {
   "cell_type": "markdown",
   "metadata": {},
   "source": [
    "Save the columns we are interested on."
   ]
  },
  {
   "cell_type": "code",
   "execution_count": null,
   "metadata": {},
   "outputs": [],
   "source": [
    "predictionCols = ['DOI', 'prediction', 'predict_proba', 'model_metadata', 'prediction_date']"
   ]
  },
  {
   "cell_type": "code",
   "execution_count": null,
   "metadata": {},
   "outputs": [],
   "source": [
    "predictionsDF"
   ]
  },
  {
   "cell_type": "code",
   "execution_count": null,
   "metadata": {},
   "outputs": [],
   "source": [
    "predictionsDF = predictionsDF[predictionCols]"
   ]
  },
  {
   "cell_type": "code",
   "execution_count": null,
   "metadata": {},
   "outputs": [],
   "source": []
  },
  {
   "cell_type": "code",
   "execution_count": null,
   "metadata": {},
   "outputs": [],
   "source": [
    "predictionsDF['prediction'].value_counts()"
   ]
  },
  {
   "cell_type": "code",
   "execution_count": null,
   "metadata": {},
   "outputs": [],
   "source": [
    "predictionsDF = predictionsDF[(predictionsDF['prediction'] == 1) |(predictionsDF['prediction'] == 0) ]"
   ]
  },
  {
   "cell_type": "code",
   "execution_count": null,
   "metadata": {},
   "outputs": [],
   "source": [
    "predictionsDF.to_parquet('data/parquet/neotomaPredictions.parquet', index=False)"
   ]
  },
  {
   "cell_type": "code",
   "execution_count": null,
   "metadata": {},
   "outputs": [],
   "source": []
  }
 ],
 "metadata": {
  "kernelspec": {
   "display_name": "venv",
   "language": "python",
   "name": "python3"
  },
  "language_info": {
   "codemirror_mode": {
    "name": "ipython",
    "version": 3
   },
   "file_extension": ".py",
   "mimetype": "text/x-python",
   "name": "python",
   "nbconvert_exporter": "python",
   "pygments_lexer": "ipython3",
   "version": "3.11.4"
  },
  "orig_nbformat": 4
 },
 "nbformat": 4,
 "nbformat_minor": 2
}
