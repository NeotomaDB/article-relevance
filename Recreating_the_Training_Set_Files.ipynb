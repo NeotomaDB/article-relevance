{
 "cells": [
  {
   "cell_type": "code",
   "execution_count": 1,
   "metadata": {},
   "outputs": [
    {
     "name": "stderr",
     "output_type": "stream",
     "text": [
      "/Users/sedv8808/HT-Data/UWisc/article-relevance/venv/lib/python3.11/site-packages/tqdm/auto.py:21: TqdmWarning: IProgress not found. Please update jupyter and ipywidgets. See https://ipywidgets.readthedocs.io/en/stable/user_install.html\n",
      "  from .autonotebook import tqdm as notebook_tqdm\n"
     ]
    }
   ],
   "source": [
    "import pandas as pd\n",
    "import numpy as np\n",
    "import warnings\n",
    "from datetime import datetime\n",
    "import src.article_relevance as ar"
   ]
  },
  {
   "cell_type": "markdown",
   "metadata": {},
   "source": [
    "# Notebook to Prepare Training Parquet Files"
   ]
  },
  {
   "cell_type": "markdown",
   "metadata": {},
   "source": [
    "## Fixed Neotoma & Pollen files from CrossRef"
   ]
  },
  {
   "cell_type": "code",
   "execution_count": 2,
   "metadata": {},
   "outputs": [],
   "source": [
    "neotoma = pd.read_csv('data/raw/neotoma_crossref_fixed.csv')\n",
    "pollenDF = pd.read_csv('data/raw/pollen_doc_labels.csv')\n",
    "labeledDF = pd.read_csv('data/raw/project_2_labeled_data.csv')"
   ]
  },
  {
   "cell_type": "markdown",
   "metadata": {},
   "source": [
    "Remove duplicates of DOIs and lower case them all."
   ]
  },
  {
   "cell_type": "code",
   "execution_count": 3,
   "metadata": {},
   "outputs": [],
   "source": [
    "neotoma['doi'] = neotoma['doi'].str.lower()\n",
    "neotoma = neotoma.drop_duplicates(subset='doi', keep='first')\n"
   ]
  },
  {
   "cell_type": "code",
   "execution_count": 4,
   "metadata": {},
   "outputs": [],
   "source": [
    "pollenDF['doi'] = pollenDF['doi'].str.lower()\n",
    "pollenDF = pollenDF.drop_duplicates(subset='doi', keep='first')"
   ]
  },
  {
   "cell_type": "code",
   "execution_count": 5,
   "metadata": {},
   "outputs": [],
   "source": [
    "labeledDF['doi'] = labeledDF['doi'].str.lower()\n",
    "labeledDF = labeledDF.drop_duplicates(subset='doi', keep='first')"
   ]
  },
  {
   "cell_type": "markdown",
   "metadata": {},
   "source": [
    "Extracting DOIs and extracing data from CrossRef"
   ]
  },
  {
   "cell_type": "code",
   "execution_count": 6,
   "metadata": {},
   "outputs": [
    {
     "data": {
      "text/plain": [
       "758"
      ]
     },
     "execution_count": 6,
     "metadata": {},
     "output_type": "execute_result"
    }
   ],
   "source": [
    "neotoma.shape[0]"
   ]
  },
  {
   "cell_type": "code",
   "execution_count": 7,
   "metadata": {},
   "outputs": [
    {
     "data": {
      "text/plain": [
       "494"
      ]
     },
     "execution_count": 7,
     "metadata": {},
     "output_type": "execute_result"
    }
   ],
   "source": [
    "pollenDF.shape[0]"
   ]
  },
  {
   "cell_type": "code",
   "execution_count": 8,
   "metadata": {},
   "outputs": [
    {
     "data": {
      "text/plain": [
       "1514"
      ]
     },
     "execution_count": 8,
     "metadata": {},
     "output_type": "execute_result"
    }
   ],
   "source": [
    "labeledDF.shape[0]"
   ]
  },
  {
   "cell_type": "code",
   "execution_count": 9,
   "metadata": {},
   "outputs": [
    {
     "name": "stdout",
     "output_type": "stream",
     "text": [
      "2023-10-06 22:41:35.973298\n",
      "2023-10-06 22:41:35,974 - crossRefQuery.py:25 - crossRefQuery - INFO - 758 DOIs to be queried from CrossRef\n",
      "2023-10-06 22:46:52,422 - crossRefQuery.py:46 - crossRefQuery - INFO - CrossRef Query Finished.\n",
      "2023-10-06 22:46:52,428 - crossRefQuery.py:25 - crossRefQuery - INFO - 494 DOIs to be queried from CrossRef\n",
      "2023-10-06 22:50:17,034 - crossRefQuery.py:46 - crossRefQuery - INFO - CrossRef Query Finished.\n",
      "2023-10-06 22:50:17,040 - crossRefQuery.py:25 - crossRefQuery - INFO - 1514 DOIs to be queried from CrossRef\n",
      "2023-10-06 23:00:57,451 - crossRefQuery.py:46 - crossRefQuery - INFO - CrossRef Query Finished.\n",
      "2023-10-06 23:00:57.456362\n"
     ]
    }
   ],
   "source": [
    "# Takes 15-18 minutes\n",
    "warnings.filterwarnings(\"ignore\")\n",
    "print(datetime.now())\n",
    "neotomaCrossRef = ar.crossRefQuery(neotoma['doi'].unique().tolist())\n",
    "pollenCrossRef =  ar.crossRefQuery(pollenDF['doi'].unique().tolist())\n",
    "labeledCrossRef = ar.crossRefQuery(labeledDF['doi'].unique().tolist())\n",
    "print(datetime.now())"
   ]
  },
  {
   "cell_type": "markdown",
   "metadata": {},
   "source": [
    "Concatenate the two dataframes."
   ]
  },
  {
   "cell_type": "code",
   "execution_count": 10,
   "metadata": {},
   "outputs": [
    {
     "data": {
      "text/html": [
       "<div>\n",
       "<style scoped>\n",
       "    .dataframe tbody tr th:only-of-type {\n",
       "        vertical-align: middle;\n",
       "    }\n",
       "\n",
       "    .dataframe tbody tr th {\n",
       "        vertical-align: top;\n",
       "    }\n",
       "\n",
       "    .dataframe thead th {\n",
       "        text-align: right;\n",
       "    }\n",
       "</style>\n",
       "<table border=\"1\" class=\"dataframe\">\n",
       "  <thead>\n",
       "    <tr style=\"text-align: right;\">\n",
       "      <th></th>\n",
       "      <th>DOI</th>\n",
       "      <th>title</th>\n",
       "      <th>subtitle</th>\n",
       "      <th>author</th>\n",
       "      <th>subject</th>\n",
       "      <th>abstract</th>\n",
       "      <th>container-title</th>\n",
       "      <th>language</th>\n",
       "      <th>published</th>\n",
       "      <th>publisher</th>\n",
       "      <th>URL</th>\n",
       "      <th>CrossRefQueryDate</th>\n",
       "    </tr>\n",
       "  </thead>\n",
       "  <tbody>\n",
       "    <tr>\n",
       "      <th>0</th>\n",
       "      <td>10.1016/j.quascirev.2014.04.014</td>\n",
       "      <td>[Postglacial history of the Patagonian forest/...</td>\n",
       "      <td>[]</td>\n",
       "      <td>[{'ORCID': 'http://orcid.org/0000-0001-5732-37...</td>\n",
       "      <td>[Geology, Archeology, Archeology, Ecology, Evo...</td>\n",
       "      <td></td>\n",
       "      <td>[Quaternary Science Reviews]</td>\n",
       "      <td>en</td>\n",
       "      <td>{'date-parts': [[2014, 6]]}</td>\n",
       "      <td>Elsevier BV</td>\n",
       "      <td>http://dx.doi.org/10.1016/j.quascirev.2014.04.014</td>\n",
       "      <td>2023-10-06 22:41:36.395841</td>\n",
       "    </tr>\n",
       "    <tr>\n",
       "      <th>1</th>\n",
       "      <td>10.1002/gea.10020</td>\n",
       "      <td>[Taphonomic analysis, associational integrity,...</td>\n",
       "      <td>[]</td>\n",
       "      <td>[{'given': 'David A.', 'family': 'Byers', 'seq...</td>\n",
       "      <td>[Earth and Planetary Sciences (miscellaneous),...</td>\n",
       "      <td></td>\n",
       "      <td>[Geoarchaeology]</td>\n",
       "      <td>en</td>\n",
       "      <td>{'date-parts': [[2002, 4, 5]]}</td>\n",
       "      <td>Wiley</td>\n",
       "      <td>http://dx.doi.org/10.1002/gea.10020</td>\n",
       "      <td>2023-10-06 22:41:37.461996</td>\n",
       "    </tr>\n",
       "    <tr>\n",
       "      <th>2</th>\n",
       "      <td>10.1139/e80-122</td>\n",
       "      <td>[Holocene vegetation and climatic history of P...</td>\n",
       "      <td>[]</td>\n",
       "      <td>[{'given': 'T. W.', 'family': 'Anderson', 'seq...</td>\n",
       "      <td>[General Earth and Planetary Sciences]</td>\n",
       "      <td>&lt;jats:p&gt; The vegetation and climate of the Hol...</td>\n",
       "      <td>[Canadian Journal of Earth Sciences]</td>\n",
       "      <td>en</td>\n",
       "      <td>{'date-parts': [[1980, 9, 1]]}</td>\n",
       "      <td>Canadian Science Publishing</td>\n",
       "      <td>http://dx.doi.org/10.1139/e80-122</td>\n",
       "      <td>2023-10-06 22:41:37.858999</td>\n",
       "    </tr>\n",
       "  </tbody>\n",
       "</table>\n",
       "</div>"
      ],
      "text/plain": [
       "                               DOI  \\\n",
       "0  10.1016/j.quascirev.2014.04.014   \n",
       "1                10.1002/gea.10020   \n",
       "2                  10.1139/e80-122   \n",
       "\n",
       "                                               title subtitle  \\\n",
       "0  [Postglacial history of the Patagonian forest/...       []   \n",
       "1  [Taphonomic analysis, associational integrity,...       []   \n",
       "2  [Holocene vegetation and climatic history of P...       []   \n",
       "\n",
       "                                              author  \\\n",
       "0  [{'ORCID': 'http://orcid.org/0000-0001-5732-37...   \n",
       "1  [{'given': 'David A.', 'family': 'Byers', 'seq...   \n",
       "2  [{'given': 'T. W.', 'family': 'Anderson', 'seq...   \n",
       "\n",
       "                                             subject  \\\n",
       "0  [Geology, Archeology, Archeology, Ecology, Evo...   \n",
       "1  [Earth and Planetary Sciences (miscellaneous),...   \n",
       "2             [General Earth and Planetary Sciences]   \n",
       "\n",
       "                                            abstract  \\\n",
       "0                                                      \n",
       "1                                                      \n",
       "2  <jats:p> The vegetation and climate of the Hol...   \n",
       "\n",
       "                        container-title language  \\\n",
       "0          [Quaternary Science Reviews]       en   \n",
       "1                      [Geoarchaeology]       en   \n",
       "2  [Canadian Journal of Earth Sciences]       en   \n",
       "\n",
       "                        published                    publisher  \\\n",
       "0     {'date-parts': [[2014, 6]]}                  Elsevier BV   \n",
       "1  {'date-parts': [[2002, 4, 5]]}                        Wiley   \n",
       "2  {'date-parts': [[1980, 9, 1]]}  Canadian Science Publishing   \n",
       "\n",
       "                                                 URL  \\\n",
       "0  http://dx.doi.org/10.1016/j.quascirev.2014.04.014   \n",
       "1                http://dx.doi.org/10.1002/gea.10020   \n",
       "2                  http://dx.doi.org/10.1139/e80-122   \n",
       "\n",
       "           CrossRefQueryDate  \n",
       "0 2023-10-06 22:41:36.395841  \n",
       "1 2023-10-06 22:41:37.461996  \n",
       "2 2023-10-06 22:41:37.858999  "
      ]
     },
     "execution_count": 10,
     "metadata": {},
     "output_type": "execute_result"
    }
   ],
   "source": [
    "df = pd.concat([neotomaCrossRef, pollenCrossRef, labeledCrossRef])\n",
    "df = df.reset_index(drop=True)\n",
    "df.head(3)"
   ]
  },
  {
   "cell_type": "code",
   "execution_count": 11,
   "metadata": {},
   "outputs": [
    {
     "data": {
      "text/plain": [
       "2733"
      ]
     },
     "execution_count": 11,
     "metadata": {},
     "output_type": "execute_result"
    }
   ],
   "source": [
    "df.shape[0]"
   ]
  },
  {
   "cell_type": "code",
   "execution_count": 12,
   "metadata": {},
   "outputs": [
    {
     "data": {
      "text/plain": [
       "DOI\n",
       "10.1002/etc.5602                   2\n",
       "10.1513/annalsats.202212-996cme    2\n",
       "10.1186/s12870-023-04189-9         2\n",
       "10.1038/s41598-023-33856-y         2\n",
       "10.1016/j.alit.2023.01.003         2\n",
       "                                  ..\n",
       "10.1126/science.204.4394.701       1\n",
       "10.1016/j.quaint.2008.04.021       1\n",
       "10.1007/s10021-009-9284-y          1\n",
       "10.3955/046.083.0107               1\n",
       "10.1371/journal.pone.0259136       1\n",
       "Name: count, Length: 2670, dtype: int64"
      ]
     },
     "execution_count": 12,
     "metadata": {},
     "output_type": "execute_result"
    }
   ],
   "source": [
    "df['DOI'].value_counts()"
   ]
  },
  {
   "cell_type": "code",
   "execution_count": 13,
   "metadata": {},
   "outputs": [],
   "source": [
    "#Remove duplicates for whatever reason\n",
    "df['DOI'] = df['DOI'].str.lower()\n",
    "df = df.drop_duplicates(subset='DOI', keep='first')"
   ]
  },
  {
   "cell_type": "code",
   "execution_count": 14,
   "metadata": {},
   "outputs": [
    {
     "data": {
      "text/plain": [
       "DOI\n",
       "10.1540/jsmr.59.28                              1\n",
       "10.1016/j.quascirev.2014.04.014                 1\n",
       "10.1002/gea.10020                               1\n",
       "10.1139/e80-122                                 1\n",
       "10.1016/j.quaint.2015.05.009                    1\n",
       "                                               ..\n",
       "10.1130/0091-7613(1975)3<344:alqrov>2.0.co;2    1\n",
       "10.5194/bg-2016-354                             1\n",
       "10.1080/02724634.2015.1113803                   1\n",
       "10.1016/s0367-2530(17)30981-7                   1\n",
       "10.1016/j.quaint.2005.03.004                    1\n",
       "Name: count, Length: 2670, dtype: int64"
      ]
     },
     "execution_count": 14,
     "metadata": {},
     "output_type": "execute_result"
    }
   ],
   "source": [
    "df['DOI'].value_counts()"
   ]
  },
  {
   "cell_type": "code",
   "execution_count": 15,
   "metadata": {},
   "outputs": [
    {
     "data": {
      "text/plain": [
       "2670"
      ]
     },
     "execution_count": 15,
     "metadata": {},
     "output_type": "execute_result"
    }
   ],
   "source": [
    "df.shape[0]"
   ]
  },
  {
   "cell_type": "code",
   "execution_count": 16,
   "metadata": {},
   "outputs": [],
   "source": [
    "#df.to_csv('data/raw/data_full.csv',  index=False)"
   ]
  },
  {
   "cell_type": "code",
   "execution_count": 17,
   "metadata": {},
   "outputs": [],
   "source": [
    "#df = pd.read_csv('data/raw/data_full.csv')\n",
    "#df.head(2)"
   ]
  },
  {
   "cell_type": "code",
   "execution_count": 18,
   "metadata": {},
   "outputs": [
    {
     "data": {
      "text/plain": [
       "['Earth and Planetary Sciences (miscellaneous)', 'Archeology', 'Archeology']"
      ]
     },
     "execution_count": 18,
     "metadata": {},
     "output_type": "execute_result"
    }
   ],
   "source": [
    "df.loc[1, 'subject']"
   ]
  },
  {
   "cell_type": "code",
   "execution_count": 19,
   "metadata": {},
   "outputs": [
    {
     "name": "stdout",
     "output_type": "stream",
     "text": [
      "2023-10-06 23:04:54,507 - dataPreprocessing.py:26 - dataPreprocessing - INFO - Data cleaning and parsing begins.\n",
      "2023-10-06 23:04:54,585 - dataPreprocessing.py:45 - dataPreprocessing - INFO - Running article language imputation.\n",
      "2023-10-06 23:04:54,616 - dataPreprocessing.py:65 - dataPreprocessing - INFO - 251 articles require language imputation\n",
      "2023-10-06 23:04:54,618 - dataPreprocessing.py:68 - dataPreprocessing - INFO - 5 cannot be imputed due to too short text metadata (title, subtitle and abstract are less than 5 characters).\n",
      "2023-10-06 23:04:56,314 - dataPreprocessing.py:76 - dataPreprocessing - INFO - Missing language imputation completed\n",
      "2023-10-06 23:04:56,316 - dataPreprocessing.py:77 - dataPreprocessing - INFO - After imputation, there are 23 non-English articles in total excluded from the prediction pipeline.\n",
      "2023-10-06 23:04:56,540 - dataPreprocessing.py:93 - dataPreprocessing - INFO - Data Preprocessing Completed. 2670 valid observations.\n"
     ]
    }
   ],
   "source": [
    "preprocessedDF = ar.dataPreprocessing(df)"
   ]
  },
  {
   "cell_type": "code",
   "execution_count": 20,
   "metadata": {},
   "outputs": [
    {
     "data": {
      "text/html": [
       "<div>\n",
       "<style scoped>\n",
       "    .dataframe tbody tr th:only-of-type {\n",
       "        vertical-align: middle;\n",
       "    }\n",
       "\n",
       "    .dataframe tbody tr th {\n",
       "        vertical-align: top;\n",
       "    }\n",
       "\n",
       "    .dataframe thead th {\n",
       "        text-align: right;\n",
       "    }\n",
       "</style>\n",
       "<table border=\"1\" class=\"dataframe\">\n",
       "  <thead>\n",
       "    <tr style=\"text-align: right;\">\n",
       "      <th></th>\n",
       "      <th>CrossRefQueryDate</th>\n",
       "      <th>DOI</th>\n",
       "      <th>URL</th>\n",
       "      <th>abstract</th>\n",
       "      <th>author</th>\n",
       "      <th>container-title</th>\n",
       "      <th>language</th>\n",
       "      <th>published</th>\n",
       "      <th>publisher</th>\n",
       "      <th>subject</th>\n",
       "      <th>subtitle</th>\n",
       "      <th>title</th>\n",
       "      <th>titleSubtitleAbstract</th>\n",
       "      <th>validForPrediction</th>\n",
       "    </tr>\n",
       "  </thead>\n",
       "  <tbody>\n",
       "    <tr>\n",
       "      <th>0</th>\n",
       "      <td>2023-10-06 22:41:36.395841</td>\n",
       "      <td>10.1016/j.quascirev.2014.04.014</td>\n",
       "      <td>http://dx.doi.org/10.1016/j.quascirev.2014.04.014</td>\n",
       "      <td></td>\n",
       "      <td>[{'ORCID': 'http://orcid.org/0000-0001-5732-37...</td>\n",
       "      <td>Quaternary Science Reviews</td>\n",
       "      <td>en</td>\n",
       "      <td>{'date-parts': [[2014, 6]]}</td>\n",
       "      <td>Elsevier BV</td>\n",
       "      <td>[Geology, Archeology, Archeology, Ecology, Evo...</td>\n",
       "      <td></td>\n",
       "      <td>Postglacial history of the Patagonian forest/s...</td>\n",
       "      <td>postglacial history of the patagonian forest/s...</td>\n",
       "      <td>1</td>\n",
       "    </tr>\n",
       "    <tr>\n",
       "      <th>1</th>\n",
       "      <td>2023-10-06 22:41:37.461996</td>\n",
       "      <td>10.1002/gea.10020</td>\n",
       "      <td>http://dx.doi.org/10.1002/gea.10020</td>\n",
       "      <td></td>\n",
       "      <td>[{'given': 'David A.', 'family': 'Byers', 'seq...</td>\n",
       "      <td>Geoarchaeology</td>\n",
       "      <td>en</td>\n",
       "      <td>{'date-parts': [[2002, 4, 5]]}</td>\n",
       "      <td>Wiley</td>\n",
       "      <td>[Earth and Planetary Sciences (miscellaneous),...</td>\n",
       "      <td></td>\n",
       "      <td>Taphonomic analysis, associational integrity, ...</td>\n",
       "      <td>taphonomic analysis, associational integrity, ...</td>\n",
       "      <td>1</td>\n",
       "    </tr>\n",
       "  </tbody>\n",
       "</table>\n",
       "</div>"
      ],
      "text/plain": [
       "           CrossRefQueryDate                              DOI  \\\n",
       "0 2023-10-06 22:41:36.395841  10.1016/j.quascirev.2014.04.014   \n",
       "1 2023-10-06 22:41:37.461996                10.1002/gea.10020   \n",
       "\n",
       "                                                 URL abstract  \\\n",
       "0  http://dx.doi.org/10.1016/j.quascirev.2014.04.014            \n",
       "1                http://dx.doi.org/10.1002/gea.10020            \n",
       "\n",
       "                                              author  \\\n",
       "0  [{'ORCID': 'http://orcid.org/0000-0001-5732-37...   \n",
       "1  [{'given': 'David A.', 'family': 'Byers', 'seq...   \n",
       "\n",
       "              container-title language                       published  \\\n",
       "0  Quaternary Science Reviews       en     {'date-parts': [[2014, 6]]}   \n",
       "1              Geoarchaeology       en  {'date-parts': [[2002, 4, 5]]}   \n",
       "\n",
       "     publisher                                            subject subtitle  \\\n",
       "0  Elsevier BV  [Geology, Archeology, Archeology, Ecology, Evo...            \n",
       "1        Wiley  [Earth and Planetary Sciences (miscellaneous),...            \n",
       "\n",
       "                                               title  \\\n",
       "0  Postglacial history of the Patagonian forest/s...   \n",
       "1  Taphonomic analysis, associational integrity, ...   \n",
       "\n",
       "                               titleSubtitleAbstract  validForPrediction  \n",
       "0  postglacial history of the patagonian forest/s...                   1  \n",
       "1  taphonomic analysis, associational integrity, ...                   1  "
      ]
     },
     "execution_count": 20,
     "metadata": {},
     "output_type": "execute_result"
    }
   ],
   "source": [
    "preprocessedDF.head(2)"
   ]
  },
  {
   "cell_type": "code",
   "execution_count": 21,
   "metadata": {},
   "outputs": [
    {
     "data": {
      "text/plain": [
       "DOI\n",
       "10.1540/jsmr.59.28                              1\n",
       "10.1016/j.quascirev.2014.04.014                 1\n",
       "10.1002/gea.10020                               1\n",
       "10.1139/e80-122                                 1\n",
       "10.1016/j.quaint.2015.05.009                    1\n",
       "                                               ..\n",
       "10.1130/0091-7613(1975)3<344:alqrov>2.0.co;2    1\n",
       "10.5194/bg-2016-354                             1\n",
       "10.1080/02724634.2015.1113803                   1\n",
       "10.1016/s0367-2530(17)30981-7                   1\n",
       "10.1016/j.quaint.2005.03.004                    1\n",
       "Name: count, Length: 2670, dtype: int64"
      ]
     },
     "execution_count": 21,
     "metadata": {},
     "output_type": "execute_result"
    }
   ],
   "source": [
    "preprocessedDF['DOI'].value_counts()"
   ]
  },
  {
   "cell_type": "markdown",
   "metadata": {},
   "source": [
    "Save this as 1 parquet file."
   ]
  },
  {
   "cell_type": "code",
   "execution_count": 22,
   "metadata": {},
   "outputs": [
    {
     "data": {
      "text/plain": [
       "(2670, 14)"
      ]
     },
     "execution_count": 22,
     "metadata": {},
     "output_type": "execute_result"
    }
   ],
   "source": [
    "preprocessedDF.shape"
   ]
  },
  {
   "cell_type": "code",
   "execution_count": 23,
   "metadata": {},
   "outputs": [
    {
     "data": {
      "text/plain": [
       "['Earth and Planetary Sciences (miscellaneous)', 'Archeology', 'Archeology']"
      ]
     },
     "execution_count": 23,
     "metadata": {},
     "output_type": "execute_result"
    }
   ],
   "source": [
    "preprocessedDF.loc[1, 'subject']"
   ]
  },
  {
   "cell_type": "code",
   "execution_count": 24,
   "metadata": {},
   "outputs": [
    {
     "data": {
      "text/html": [
       "<div>\n",
       "<style scoped>\n",
       "    .dataframe tbody tr th:only-of-type {\n",
       "        vertical-align: middle;\n",
       "    }\n",
       "\n",
       "    .dataframe tbody tr th {\n",
       "        vertical-align: top;\n",
       "    }\n",
       "\n",
       "    .dataframe thead th {\n",
       "        text-align: right;\n",
       "    }\n",
       "</style>\n",
       "<table border=\"1\" class=\"dataframe\">\n",
       "  <thead>\n",
       "    <tr style=\"text-align: right;\">\n",
       "      <th></th>\n",
       "      <th>CrossRefQueryDate</th>\n",
       "      <th>DOI</th>\n",
       "      <th>URL</th>\n",
       "      <th>abstract</th>\n",
       "      <th>author</th>\n",
       "      <th>container-title</th>\n",
       "      <th>language</th>\n",
       "      <th>published</th>\n",
       "      <th>publisher</th>\n",
       "      <th>subject</th>\n",
       "      <th>subtitle</th>\n",
       "      <th>title</th>\n",
       "      <th>titleSubtitleAbstract</th>\n",
       "      <th>validForPrediction</th>\n",
       "    </tr>\n",
       "  </thead>\n",
       "  <tbody>\n",
       "    <tr>\n",
       "      <th>0</th>\n",
       "      <td>2023-10-06 22:41:36.395841</td>\n",
       "      <td>10.1016/j.quascirev.2014.04.014</td>\n",
       "      <td>http://dx.doi.org/10.1016/j.quascirev.2014.04.014</td>\n",
       "      <td></td>\n",
       "      <td>[{'ORCID': 'http://orcid.org/0000-0001-5732-37...</td>\n",
       "      <td>Quaternary Science Reviews</td>\n",
       "      <td>en</td>\n",
       "      <td>{'date-parts': [[2014, 6]]}</td>\n",
       "      <td>Elsevier BV</td>\n",
       "      <td>[Geology, Archeology, Archeology, Ecology, Evo...</td>\n",
       "      <td></td>\n",
       "      <td>Postglacial history of the Patagonian forest/s...</td>\n",
       "      <td>postglacial history of the patagonian forest/s...</td>\n",
       "      <td>1</td>\n",
       "    </tr>\n",
       "  </tbody>\n",
       "</table>\n",
       "</div>"
      ],
      "text/plain": [
       "           CrossRefQueryDate                              DOI  \\\n",
       "0 2023-10-06 22:41:36.395841  10.1016/j.quascirev.2014.04.014   \n",
       "\n",
       "                                                 URL abstract  \\\n",
       "0  http://dx.doi.org/10.1016/j.quascirev.2014.04.014            \n",
       "\n",
       "                                              author  \\\n",
       "0  [{'ORCID': 'http://orcid.org/0000-0001-5732-37...   \n",
       "\n",
       "              container-title language                    published  \\\n",
       "0  Quaternary Science Reviews       en  {'date-parts': [[2014, 6]]}   \n",
       "\n",
       "     publisher                                            subject subtitle  \\\n",
       "0  Elsevier BV  [Geology, Archeology, Archeology, Ecology, Evo...            \n",
       "\n",
       "                                               title  \\\n",
       "0  Postglacial history of the Patagonian forest/s...   \n",
       "\n",
       "                               titleSubtitleAbstract  validForPrediction  \n",
       "0  postglacial history of the patagonian forest/s...                   1  "
      ]
     },
     "execution_count": 24,
     "metadata": {},
     "output_type": "execute_result"
    }
   ],
   "source": [
    "preprocessedDF.head(1)"
   ]
  },
  {
   "cell_type": "code",
   "execution_count": 25,
   "metadata": {},
   "outputs": [],
   "source": [
    "# In trainingDataSetUp the file is saved to AWS\n",
    "preprocessedDF.to_parquet('data/parquet/publicationMetadataDF.parquet', engine='fastparquet', compression='snappy')"
   ]
  },
  {
   "cell_type": "code",
   "execution_count": 26,
   "metadata": {},
   "outputs": [
    {
     "data": {
      "text/plain": [
       "(2670, 14)"
      ]
     },
     "execution_count": 26,
     "metadata": {},
     "output_type": "execute_result"
    }
   ],
   "source": [
    "preprocessedDF.shape"
   ]
  },
  {
   "cell_type": "markdown",
   "metadata": {},
   "source": [
    "## Annotation Data File\n",
    "\n",
    "We need a 2nd file that contains the following info:\n",
    "```python\n",
    "['DOI', 'Annotation', 'Annotator', 'Annotation_Date', 'Verified', 'Verified By', 'Verified Timestamp']\n",
    "```\n",
    "\n",
    "In the `pollen.csv` file Dr. Goring has done already some manual annotation of whether a particular article would belong to Neotoma or not. All files in the `neotoma.csv` file belong to Neotoma. \n",
    "\n",
    "In a different setting, this annotations would be made using the **Data Review Tool** and stored to complement the parquet file, for now, I am going to do a JSON"
   ]
  },
  {
   "cell_type": "code",
   "execution_count": 27,
   "metadata": {},
   "outputs": [],
   "source": [
    "\n",
    "annotation_cols = ['DOI', 'annotation', 'annotator', 'annotationDate', 'verified', 'verifiedBy', 'verifiedTimeStamp']"
   ]
  },
  {
   "cell_type": "code",
   "execution_count": 28,
   "metadata": {},
   "outputs": [],
   "source": [
    "neotoma['DOI'] = neotoma['doi']\n",
    "neotoma['annotation'] = 'Neotoma'\n",
    "neotoma['annotator'] = 'Simon J. Goring'\n",
    "neotoma['annotationDate'] = datetime.now()\n",
    "neotoma['annotationDate'] = neotoma['annotationDate'].apply(lambda x: x.strftime('%Y-%m-%d %H:%M:%S'))\n",
    "neotoma['verified'] = 'No'\n",
    "neotoma['verifiedBy'] = np.NaN\n",
    "neotoma['verifiedTimeStamp'] = np.NaN\n",
    "neotomaAnnotation = neotoma[annotation_cols]"
   ]
  },
  {
   "cell_type": "code",
   "execution_count": 29,
   "metadata": {},
   "outputs": [],
   "source": [
    "pollenDF['DOI'] = pollenDF['doi']\n",
    "pollenDF['annotation'] = pollenDF['Label']\n",
    "pollenDF['annotator'] = pollenDF['Profile']\n",
    "pollenDF['annotationDate'] = pollenDF['Timestamp']\n",
    "#pollenDF['annotationDate'] = pollenDF['annotationDate'].apply(lambda x: x.strftime('%Y-%m-%d %H:%M:%S'))\n",
    "pollenDF['verified'] = pollenDF['Verified']\n",
    "pollenDF['verifiedBy'] = pollenDF['Verified By']\n",
    "pollenDF['verifiedTimeStamp'] = pollenDF['Verified Timestamp']\n",
    "pollenAnnotation = pollenDF[annotation_cols]"
   ]
  },
  {
   "cell_type": "code",
   "execution_count": 30,
   "metadata": {},
   "outputs": [],
   "source": [
    "labeledDF['DOI'] = labeledDF['doi']\n",
    "labeledDF['annotation'] = labeledDF['Label']\n",
    "labeledDF['annotator'] = labeledDF['Profile']\n",
    "labeledDF['annotationDate'] = labeledDF['Timestamp']\n",
    "labeledDF['verified'] = labeledDF['Verified']\n",
    "labeledDF['verifiedBy'] = labeledDF['Verified By']\n",
    "labeledDF['verifiedTimeStamp'] = labeledDF['Verified Timestamp']\n",
    "labeledAnnotation = labeledDF[annotation_cols]"
   ]
  },
  {
   "cell_type": "code",
   "execution_count": 31,
   "metadata": {},
   "outputs": [
    {
     "data": {
      "text/html": [
       "<div>\n",
       "<style scoped>\n",
       "    .dataframe tbody tr th:only-of-type {\n",
       "        vertical-align: middle;\n",
       "    }\n",
       "\n",
       "    .dataframe tbody tr th {\n",
       "        vertical-align: top;\n",
       "    }\n",
       "\n",
       "    .dataframe thead th {\n",
       "        text-align: right;\n",
       "    }\n",
       "</style>\n",
       "<table border=\"1\" class=\"dataframe\">\n",
       "  <thead>\n",
       "    <tr style=\"text-align: right;\">\n",
       "      <th></th>\n",
       "      <th>DOI</th>\n",
       "      <th>annotation</th>\n",
       "      <th>annotator</th>\n",
       "      <th>annotationDate</th>\n",
       "      <th>verified</th>\n",
       "      <th>verifiedBy</th>\n",
       "      <th>verifiedTimeStamp</th>\n",
       "    </tr>\n",
       "  </thead>\n",
       "  <tbody>\n",
       "    <tr>\n",
       "      <th>0</th>\n",
       "      <td>10.1016/0033-5894(73)90004-5</td>\n",
       "      <td>Neotoma</td>\n",
       "      <td>Simon J. Goring</td>\n",
       "      <td>2023-10-06 23:05:47</td>\n",
       "      <td>No</td>\n",
       "      <td>NaN</td>\n",
       "      <td>NaN</td>\n",
       "    </tr>\n",
       "    <tr>\n",
       "      <th>1</th>\n",
       "      <td>10.1139/e80-122</td>\n",
       "      <td>Neotoma</td>\n",
       "      <td>Simon J. Goring</td>\n",
       "      <td>2023-10-06 23:05:47</td>\n",
       "      <td>No</td>\n",
       "      <td>NaN</td>\n",
       "      <td>NaN</td>\n",
       "    </tr>\n",
       "    <tr>\n",
       "      <th>2</th>\n",
       "      <td>10.1017/s0033822200004781</td>\n",
       "      <td>Neotoma</td>\n",
       "      <td>Simon J. Goring</td>\n",
       "      <td>2023-10-06 23:05:47</td>\n",
       "      <td>No</td>\n",
       "      <td>NaN</td>\n",
       "      <td>NaN</td>\n",
       "    </tr>\n",
       "  </tbody>\n",
       "</table>\n",
       "</div>"
      ],
      "text/plain": [
       "                            DOI annotation        annotator  \\\n",
       "0  10.1016/0033-5894(73)90004-5    Neotoma  Simon J. Goring   \n",
       "1               10.1139/e80-122    Neotoma  Simon J. Goring   \n",
       "2     10.1017/s0033822200004781    Neotoma  Simon J. Goring   \n",
       "\n",
       "        annotationDate verified verifiedBy verifiedTimeStamp  \n",
       "0  2023-10-06 23:05:47       No        NaN               NaN  \n",
       "1  2023-10-06 23:05:47       No        NaN               NaN  \n",
       "2  2023-10-06 23:05:47       No        NaN               NaN  "
      ]
     },
     "execution_count": 31,
     "metadata": {},
     "output_type": "execute_result"
    }
   ],
   "source": [
    "fullAnnotation = pd.concat([neotomaAnnotation, pollenAnnotation, labeledAnnotation])\n",
    "fullAnnotation = fullAnnotation.reset_index(drop=True)\n",
    "fullAnnotation.head(3)"
   ]
  },
  {
   "cell_type": "code",
   "execution_count": 32,
   "metadata": {},
   "outputs": [
    {
     "data": {
      "text/plain": [
       "DOI\n",
       "10.3390/plants12020373                           2\n",
       "10.5114/ada.2022.117978                          2\n",
       "10.3389/fgeed.2022.1085023                       2\n",
       "10.3389/fpls.2022.1096804                        2\n",
       "10.1016/j.alit.2023.01.003                       2\n",
       "                                                ..\n",
       "10.2307/1939818                                  1\n",
       "10.2307/1935709                                  1\n",
       "10.2307/1942485                                  1\n",
       "10.1130/0016-7606(1975)86<287:vrftly>2.0.co;2    1\n",
       "10.1016/j.marpolbul.2020.111757                  1\n",
       "Name: count, Length: 2699, dtype: int64"
      ]
     },
     "execution_count": 32,
     "metadata": {},
     "output_type": "execute_result"
    }
   ],
   "source": [
    "fullAnnotation['DOI'].value_counts()"
   ]
  },
  {
   "cell_type": "code",
   "execution_count": 33,
   "metadata": {},
   "outputs": [
    {
     "data": {
      "text/html": [
       "<div>\n",
       "<style scoped>\n",
       "    .dataframe tbody tr th:only-of-type {\n",
       "        vertical-align: middle;\n",
       "    }\n",
       "\n",
       "    .dataframe tbody tr th {\n",
       "        vertical-align: top;\n",
       "    }\n",
       "\n",
       "    .dataframe thead th {\n",
       "        text-align: right;\n",
       "    }\n",
       "</style>\n",
       "<table border=\"1\" class=\"dataframe\">\n",
       "  <thead>\n",
       "    <tr style=\"text-align: right;\">\n",
       "      <th></th>\n",
       "      <th>DOI</th>\n",
       "      <th>annotation</th>\n",
       "      <th>annotator</th>\n",
       "      <th>annotationDate</th>\n",
       "      <th>verified</th>\n",
       "      <th>verifiedBy</th>\n",
       "      <th>verifiedTimeStamp</th>\n",
       "    </tr>\n",
       "  </thead>\n",
       "  <tbody>\n",
       "    <tr>\n",
       "      <th>1243</th>\n",
       "      <td>10.3390/plants12020373</td>\n",
       "      <td>Not Neotoma</td>\n",
       "      <td>SimonGoring</td>\n",
       "      <td>2023-05-11 18:49:49.397021-04:00</td>\n",
       "      <td>No</td>\n",
       "      <td>NaN</td>\n",
       "      <td>NaT</td>\n",
       "    </tr>\n",
       "    <tr>\n",
       "      <th>1461</th>\n",
       "      <td>10.3390/plants12020373</td>\n",
       "      <td>Not Neotoma</td>\n",
       "      <td>SimonGoring</td>\n",
       "      <td>2023-05-11 23:18:58.026894-04:00</td>\n",
       "      <td>No</td>\n",
       "      <td>NaN</td>\n",
       "      <td>NaN</td>\n",
       "    </tr>\n",
       "  </tbody>\n",
       "</table>\n",
       "</div>"
      ],
      "text/plain": [
       "                         DOI   annotation    annotator  \\\n",
       "1243  10.3390/plants12020373  Not Neotoma  SimonGoring   \n",
       "1461  10.3390/plants12020373  Not Neotoma  SimonGoring   \n",
       "\n",
       "                        annotationDate verified verifiedBy verifiedTimeStamp  \n",
       "1243  2023-05-11 18:49:49.397021-04:00       No        NaN               NaT  \n",
       "1461  2023-05-11 23:18:58.026894-04:00       No        NaN               NaN  "
      ]
     },
     "execution_count": 33,
     "metadata": {},
     "output_type": "execute_result"
    }
   ],
   "source": [
    "fullAnnotation[fullAnnotation['DOI'] == '10.3390/plants12020373']"
   ]
  },
  {
   "cell_type": "code",
   "execution_count": 34,
   "metadata": {},
   "outputs": [],
   "source": [
    "fullAnnotation['DOI'] = fullAnnotation['DOI'].str.lower()\n",
    "fullAnnotation = fullAnnotation.drop_duplicates(subset='DOI', keep='first')"
   ]
  },
  {
   "cell_type": "code",
   "execution_count": 35,
   "metadata": {},
   "outputs": [
    {
     "data": {
      "text/plain": [
       "2700"
      ]
     },
     "execution_count": 35,
     "metadata": {},
     "output_type": "execute_result"
    }
   ],
   "source": [
    "fullAnnotation.shape[0]"
   ]
  },
  {
   "cell_type": "code",
   "execution_count": 36,
   "metadata": {},
   "outputs": [
    {
     "data": {
      "text/plain": [
       "2670"
      ]
     },
     "execution_count": 36,
     "metadata": {},
     "output_type": "execute_result"
    }
   ],
   "source": [
    "preprocessedDF.shape[0]"
   ]
  },
  {
   "cell_type": "code",
   "execution_count": 37,
   "metadata": {},
   "outputs": [
    {
     "data": {
      "text/plain": [
       "2700"
      ]
     },
     "execution_count": 37,
     "metadata": {},
     "output_type": "execute_result"
    }
   ],
   "source": [
    "duplicates_mask = fullAnnotation.duplicated()\n",
    "fullAnnotation = fullAnnotation[~duplicates_mask]\n",
    "fullAnnotation.shape[0]"
   ]
  },
  {
   "cell_type": "code",
   "execution_count": 38,
   "metadata": {},
   "outputs": [],
   "source": [
    "#fullAnnotation.to_parquet('data/parquet/AnnotationDF.parquet', index=False)"
   ]
  },
  {
   "cell_type": "markdown",
   "metadata": {},
   "source": [
    "## Prediction Parquet\n",
    "\n",
    "The Prediction PQ file will contain the following columns:\n",
    "```python\n",
    "['DOI', 'prediction', 'predict_proba', 'model_metadata', 'prediction_date']\n",
    "```"
   ]
  },
  {
   "cell_type": "markdown",
   "metadata": {},
   "source": [
    "Embed the data using the provided functions (this has been previously trained)."
   ]
  },
  {
   "cell_type": "markdown",
   "metadata": {},
   "source": [
    "### Please Continue on the Training_Model Notebook\n",
    "#### (you can skip directly to the Prediction Parquet Section)"
   ]
  }
 ],
 "metadata": {
  "kernelspec": {
   "display_name": "venv",
   "language": "python",
   "name": "python3"
  },
  "language_info": {
   "codemirror_mode": {
    "name": "ipython",
    "version": 3
   },
   "file_extension": ".py",
   "mimetype": "text/x-python",
   "name": "python",
   "nbconvert_exporter": "python",
   "pygments_lexer": "ipython3",
   "version": "3.11.4"
  },
  "orig_nbformat": 4
 },
 "nbformat": 4,
 "nbformat_minor": 2
}
