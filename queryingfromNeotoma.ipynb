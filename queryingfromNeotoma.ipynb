{
 "cells": [
  {
   "cell_type": "code",
   "execution_count": 1,
   "metadata": {},
   "outputs": [
    {
     "name": "stderr",
     "output_type": "stream",
     "text": [
      "/Users/sedv8808/HT-Data/UWisc/article-relevance/venv/lib/python3.11/site-packages/tqdm/auto.py:21: TqdmWarning: IProgress not found. Please update jupyter and ipywidgets. See https://ipywidgets.readthedocs.io/en/stable/user_install.html\n",
      "  from .autonotebook import tqdm as notebook_tqdm\n"
     ]
    }
   ],
   "source": [
    "import pandas as pd\n",
    "import numpy as np\n",
    "from src.logs import get_logger\n",
    "import src.article_relevance as ar"
   ]
  },
  {
   "cell_type": "markdown",
   "metadata": {},
   "source": [
    "## Recreating Training Data"
   ]
  },
  {
   "cell_type": "code",
   "execution_count": 2,
   "metadata": {},
   "outputs": [],
   "source": [
    "neotoma_fixed = pd.read_csv('data/raw/neotoma_crossref_fixed.csv')"
   ]
  },
  {
   "cell_type": "code",
   "execution_count": 3,
   "metadata": {},
   "outputs": [
    {
     "data": {
      "text/html": [
       "<div>\n",
       "<style scoped>\n",
       "    .dataframe tbody tr th:only-of-type {\n",
       "        vertical-align: middle;\n",
       "    }\n",
       "\n",
       "    .dataframe tbody tr th {\n",
       "        vertical-align: top;\n",
       "    }\n",
       "\n",
       "    .dataframe thead th {\n",
       "        text-align: right;\n",
       "    }\n",
       "</style>\n",
       "<table border=\"1\" class=\"dataframe\">\n",
       "  <thead>\n",
       "    <tr style=\"text-align: right;\">\n",
       "      <th></th>\n",
       "      <th>siteid</th>\n",
       "      <th>sitename</th>\n",
       "      <th>longitudeeast</th>\n",
       "      <th>latitudenorth</th>\n",
       "      <th>longitudewest</th>\n",
       "      <th>latitudesouth</th>\n",
       "      <th>altitude</th>\n",
       "      <th>area</th>\n",
       "      <th>sitedescription</th>\n",
       "      <th>notes</th>\n",
       "      <th>...</th>\n",
       "      <th>datasettypeid</th>\n",
       "      <th>datasetname</th>\n",
       "      <th>notes-2</th>\n",
       "      <th>recdatecreated-2</th>\n",
       "      <th>recdatemodified-2</th>\n",
       "      <th>embargoid</th>\n",
       "      <th>citation</th>\n",
       "      <th>doi</th>\n",
       "      <th>status_code</th>\n",
       "      <th>doi_in_crossref</th>\n",
       "    </tr>\n",
       "  </thead>\n",
       "  <tbody>\n",
       "    <tr>\n",
       "      <th>0</th>\n",
       "      <td>195</td>\n",
       "      <td>Hungry Jack Lake</td>\n",
       "      <td>-91.12</td>\n",
       "      <td>48.15</td>\n",
       "      <td>-91.12</td>\n",
       "      <td>48.15</td>\n",
       "      <td>453.0</td>\n",
       "      <td>NaN</td>\n",
       "      <td>NaN</td>\n",
       "      <td>NaN</td>\n",
       "      <td>...</td>\n",
       "      <td>7</td>\n",
       "      <td>NaN</td>\n",
       "      <td>NaN</td>\n",
       "      <td>2013-09-30 14:02:42</td>\n",
       "      <td>2013-09-30 14:02:42</td>\n",
       "      <td>NaN</td>\n",
       "      <td>Swain, A.M. 1973. A history of fire and vegeta...</td>\n",
       "      <td>10.1016/0033-5894(73)90004-5</td>\n",
       "      <td>NaN</td>\n",
       "      <td>NaN</td>\n",
       "    </tr>\n",
       "  </tbody>\n",
       "</table>\n",
       "<p>1 rows × 25 columns</p>\n",
       "</div>"
      ],
      "text/plain": [
       "   siteid          sitename  longitudeeast  latitudenorth  longitudewest  \\\n",
       "0     195  Hungry Jack Lake         -91.12          48.15         -91.12   \n",
       "\n",
       "   latitudesouth  altitude  area sitedescription notes  ... datasettypeid  \\\n",
       "0          48.15     453.0   NaN             NaN   NaN  ...             7   \n",
       "\n",
       "  datasetname notes-2     recdatecreated-2    recdatemodified-2  embargoid  \\\n",
       "0         NaN     NaN  2013-09-30 14:02:42  2013-09-30 14:02:42        NaN   \n",
       "\n",
       "                                            citation  \\\n",
       "0  Swain, A.M. 1973. A history of fire and vegeta...   \n",
       "\n",
       "                            doi status_code doi_in_crossref  \n",
       "0  10.1016/0033-5894(73)90004-5         NaN             NaN  \n",
       "\n",
       "[1 rows x 25 columns]"
      ]
     },
     "execution_count": 3,
     "metadata": {},
     "output_type": "execute_result"
    }
   ],
   "source": [
    "neotoma_fixed.head(1)"
   ]
  },
  {
   "cell_type": "code",
   "execution_count": 4,
   "metadata": {},
   "outputs": [
    {
     "data": {
      "text/plain": [
       "Index(['siteid', 'sitename', 'longitudeeast', 'latitudenorth', 'longitudewest',\n",
       "       'latitudesouth', 'altitude', 'area', 'sitedescription', 'notes',\n",
       "       'recdatecreated', 'recdatemodified', 'geog', 'datasetid',\n",
       "       'collectionunitid', 'datasettypeid', 'datasetname', 'notes-2',\n",
       "       'recdatecreated-2', 'recdatemodified-2', 'embargoid', 'citation', 'doi',\n",
       "       'status_code', 'doi_in_crossref'],\n",
       "      dtype='object')"
      ]
     },
     "execution_count": 4,
     "metadata": {},
     "output_type": "execute_result"
    }
   ],
   "source": [
    "neotoma_fixed.columns"
   ]
  },
  {
   "cell_type": "code",
   "execution_count": 15,
   "metadata": {},
   "outputs": [],
   "source": [
    "neotoma_dois = neotoma_fixed['doi'].unique().tolist()"
   ]
  },
  {
   "cell_type": "code",
   "execution_count": 17,
   "metadata": {},
   "outputs": [
    {
     "name": "stderr",
     "output_type": "stream",
     "text": [
      "/Users/sedv8808/HT-Data/UWisc/article-relevance/src/article_relevance/crossRefQuery.py:23: Warning: DOI 10.1016/j.quascirev.2016.09.023. not found in CrossRef\n",
      "  warnings.warn(warning_msg, category=Warning)\n",
      "/Users/sedv8808/HT-Data/UWisc/article-relevance/src/article_relevance/crossRefQuery.py:23: Warning: DOI Joyce, D.J. 2006. Chronology and new research on the Schaefer mammoth (? Mammuthus primigenius) site, Kenosha County, Wisconsin, USA,. Quaternary International 142:44-57. [DOI: doi:10.1016/j.quaint.2005.03.004] not found in CrossRef\n",
      "  warnings.warn(warning_msg, category=Warning)\n",
      "/Users/sedv8808/HT-Data/UWisc/article-relevance/src/article_relevance/crossRefQuery.py:23: Warning: DOI Widga, C., S.N. Lengyel, J. Saunders, G. Hodgins, J.D. Walker, and A.D. Wanamaker. 2017. Late Pleistocene proboscidean population dynamics in the North American Midcontinent. Boreas 46(4):772-782. [DOI: 10.1111/bor.12235] not found in CrossRef\n",
      "  warnings.warn(warning_msg, category=Warning)\n",
      "/Users/sedv8808/HT-Data/UWisc/article-relevance/src/article_relevance/crossRefQuery.py:23: Warning: DOI Fiedel, S.J. 2018. The spore conundrum: Does a dung fungus decline signal humans' arrival in the Eastern United States?. Quaternary International 466:247e255. [DOI: doi.org/10.1016/j.quaint.2015.11.130] not found in CrossRef\n",
      "  warnings.warn(warning_msg, category=Warning)\n",
      "/Users/sedv8808/HT-Data/UWisc/article-relevance/src/article_relevance/crossRefQuery.py:23: Warning: DOI 10.1016/j.revpalbo.2004.09.004   not found in CrossRef\n",
      "  warnings.warn(warning_msg, category=Warning)\n",
      "/Users/sedv8808/HT-Data/UWisc/article-relevance/src/article_relevance/crossRefQuery.py:23: Warning: DOI Overstreet, D.F., and M.F. Kolb. 2003. Geoarchaeological contexts for Late Pleistocene archaeological sites with human‐modified woolly mammoth remains in southeastern Wisconsin, USA. Geoarchaeology 18(1):91-114. [DOI: DOI:10.1002/gea.10052] not found in CrossRef\n",
      "  warnings.warn(warning_msg, category=Warning)\n",
      "/Users/sedv8808/HT-Data/UWisc/article-relevance/src/article_relevance/crossRefQuery.py:23: Warning: DOI 10.2307/1551050   not found in CrossRef\n",
      "  warnings.warn(warning_msg, category=Warning)\n",
      "/Users/sedv8808/HT-Data/UWisc/article-relevance/src/article_relevance/crossRefQuery.py:23: Warning: DOI 10.2307/1551601   not found in CrossRef\n",
      "  warnings.warn(warning_msg, category=Warning)\n"
     ]
    }
   ],
   "source": [
    "neotomaCrossRef = ar.crossRefQuery(neotoma_dois)"
   ]
  },
  {
   "cell_type": "code",
   "execution_count": 53,
   "metadata": {},
   "outputs": [],
   "source": [
    "pollenDF = pd.read_csv('data/raw/pollen_doc_labels.csv')"
   ]
  },
  {
   "cell_type": "code",
   "execution_count": 54,
   "metadata": {},
   "outputs": [
    {
     "name": "stderr",
     "output_type": "stream",
     "text": [
      "/Users/sedv8808/HT-Data/UWisc/article-relevance/src/article_relevance/crossRefQuery.py:23: Warning: DOI 10.4103/ijd.ijd_405_22 not found in CrossRef\n",
      "  warnings.warn(warning_msg, category=Warning)\n",
      "/Users/sedv8808/HT-Data/UWisc/article-relevance/src/article_relevance/crossRefQuery.py:23: Warning: DOI 10.3760/cma.j.cn112150-20220508-00458 not found in CrossRef\n",
      "  warnings.warn(warning_msg, category=Warning)\n",
      "/Users/sedv8808/HT-Data/UWisc/article-relevance/src/article_relevance/crossRefQuery.py:23: Warning: DOI 10.13201/j.issn.2096-7993.2023.05.012 not found in CrossRef\n",
      "  warnings.warn(warning_msg, category=Warning)\n",
      "/Users/sedv8808/HT-Data/UWisc/article-relevance/src/article_relevance/crossRefQuery.py:23: Warning: DOI nan not found in CrossRef\n",
      "  warnings.warn(warning_msg, category=Warning)\n",
      "/Users/sedv8808/HT-Data/UWisc/article-relevance/src/article_relevance/crossRefQuery.py:23: Warning: DOI 10.1093/lambio/ovac017 not found in CrossRef\n",
      "  warnings.warn(warning_msg, category=Warning)\n",
      "/Users/sedv8808/HT-Data/UWisc/article-relevance/src/article_relevance/crossRefQuery.py:23: Warning: DOI 10.15036/arerugi.72.18 not found in CrossRef\n",
      "  warnings.warn(warning_msg, category=Warning)\n",
      "/Users/sedv8808/HT-Data/UWisc/article-relevance/src/article_relevance/crossRefQuery.py:23: Warning: DOI 10.13345/j.cjb.220336 not found in CrossRef\n",
      "  warnings.warn(warning_msg, category=Warning)\n"
     ]
    }
   ],
   "source": [
    "pollenCrossRef =  ar.crossRefQuery(pollenDF['doi'].unique().tolist())"
   ]
  },
  {
   "cell_type": "code",
   "execution_count": 55,
   "metadata": {},
   "outputs": [],
   "source": [
    "pollenCrossRefDF = pd.DataFrame(pollenCrossRef)\n",
    "neotomaCrossRefDF = pd.DataFrame(neotomaCrossRef)"
   ]
  },
  {
   "cell_type": "code",
   "execution_count": 22,
   "metadata": {},
   "outputs": [
    {
     "name": "stdout",
     "output_type": "stream",
     "text": [
      "Index(['URL', 'is-referenced-by-count', 'language', 'subtitle', 'subject',\n",
      "       'published', 'title', 'publisher', 'author', 'abstract', 'DOI',\n",
      "       'container-title', 'CrossRefQueryDate'],\n",
      "      dtype='object') Index(['ID', 'Text', 'pmid', 'doi', 'abstract', 'month', 'year', 'day',\n",
      "       'jabbrv', 'journal', 'keywords', 'lastname', 'firstname', 'address',\n",
      "       'email', 'Label', 'Pre-Loaded', 'Description', 'Profile', 'Timestamp',\n",
      "       'Verified', 'Verified By', 'Verified Timestamp'],\n",
      "      dtype='object')\n"
     ]
    }
   ],
   "source": [
    "print(pollenCrossRefDF.columns, pollenDF.columns)"
   ]
  },
  {
   "cell_type": "code",
   "execution_count": 23,
   "metadata": {},
   "outputs": [
    {
     "name": "stdout",
     "output_type": "stream",
     "text": [
      "Index(['URL', 'is-referenced-by-count', 'language', 'subtitle', 'subject',\n",
      "       'published', 'title', 'publisher', 'author', 'abstract', 'DOI',\n",
      "       'container-title', 'CrossRefQueryDate'],\n",
      "      dtype='object') Index(['siteid', 'sitename', 'longitudeeast', 'latitudenorth', 'longitudewest',\n",
      "       'latitudesouth', 'altitude', 'area', 'sitedescription', 'notes',\n",
      "       'recdatecreated', 'recdatemodified', 'geog', 'datasetid',\n",
      "       'collectionunitid', 'datasettypeid', 'datasetname', 'notes-2',\n",
      "       'recdatecreated-2', 'recdatemodified-2', 'embargoid', 'citation', 'doi',\n",
      "       'status_code', 'doi_in_crossref'],\n",
      "      dtype='object')\n"
     ]
    }
   ],
   "source": [
    "print(neotomaCrossRefDF.columns, neotoma_fixed.columns)"
   ]
  },
  {
   "cell_type": "code",
   "execution_count": 24,
   "metadata": {},
   "outputs": [],
   "source": [
    "neotomaFull = neotoma_fixed.merge(neotomaCrossRefDF,  left_on='doi', right_on = 'DOI',how = 'inner')\n"
   ]
  },
  {
   "cell_type": "code",
   "execution_count": 56,
   "metadata": {},
   "outputs": [],
   "source": [
    "pollenFull = pollenDF.merge(pollenCrossRefDF,left_on='doi',  right_on = 'DOI', how = 'inner')"
   ]
  },
  {
   "cell_type": "code",
   "execution_count": null,
   "metadata": {},
   "outputs": [
    {
     "data": {
      "text/plain": [
       "Index(['siteid', 'sitename', 'longitudeeast', 'latitudenorth', 'longitudewest',\n",
       "       'latitudesouth', 'altitude', 'area', 'sitedescription', 'notes',\n",
       "       'recdatecreated', 'recdatemodified', 'geog', 'datasetid',\n",
       "       'collectionunitid', 'datasettypeid', 'datasetname', 'notes-2',\n",
       "       'recdatecreated-2', 'recdatemodified-2', 'embargoid', 'citation', 'doi',\n",
       "       'status_code', 'doi_in_crossref', 'language', 'publisher', 'subtitle',\n",
       "       'DOI', 'title', 'is-referenced-by-count', 'subject', 'abstract',\n",
       "       'author', 'published', 'container-title', 'URL', 'CrossRefQueryDate'],\n",
       "      dtype='object')"
      ]
     },
     "execution_count": 20,
     "metadata": {},
     "output_type": "execute_result"
    }
   ],
   "source": [
    "neotomaFull.columns"
   ]
  },
  {
   "cell_type": "code",
   "execution_count": 48,
   "metadata": {},
   "outputs": [],
   "source": [
    "neotomaFull['Label'] = 'Neotoma'\n",
    "neotomaFull['Pre-Loaded'] ='No'\n",
    "neotomaFull['Description'] = 'Neotoma Article'\n",
    "neotomaFull['Profile'] = 'SimonGoring'\n",
    "neotomaFull['Timestamp'] = 'CrossRefQueryDate'\n",
    "neotomaFull['journal'] = ''\n",
    "neotomaFull['keywords'] = ''"
   ]
  },
  {
   "cell_type": "code",
   "execution_count": 49,
   "metadata": {},
   "outputs": [
    {
     "data": {
      "text/html": [
       "<div>\n",
       "<style scoped>\n",
       "    .dataframe tbody tr th:only-of-type {\n",
       "        vertical-align: middle;\n",
       "    }\n",
       "\n",
       "    .dataframe tbody tr th {\n",
       "        vertical-align: top;\n",
       "    }\n",
       "\n",
       "    .dataframe thead th {\n",
       "        text-align: right;\n",
       "    }\n",
       "</style>\n",
       "<table border=\"1\" class=\"dataframe\">\n",
       "  <thead>\n",
       "    <tr style=\"text-align: right;\">\n",
       "      <th></th>\n",
       "      <th>siteid</th>\n",
       "      <th>sitename</th>\n",
       "      <th>longitudeeast</th>\n",
       "      <th>latitudenorth</th>\n",
       "      <th>longitudewest</th>\n",
       "      <th>latitudesouth</th>\n",
       "      <th>altitude</th>\n",
       "      <th>area</th>\n",
       "      <th>sitedescription</th>\n",
       "      <th>notes</th>\n",
       "      <th>...</th>\n",
       "      <th>DOI</th>\n",
       "      <th>container-title</th>\n",
       "      <th>CrossRefQueryDate</th>\n",
       "      <th>Label</th>\n",
       "      <th>Pre-Loaded</th>\n",
       "      <th>Description</th>\n",
       "      <th>Profile</th>\n",
       "      <th>Timestamp</th>\n",
       "      <th>journal</th>\n",
       "      <th>keywords</th>\n",
       "    </tr>\n",
       "  </thead>\n",
       "  <tbody>\n",
       "    <tr>\n",
       "      <th>0</th>\n",
       "      <td>195</td>\n",
       "      <td>Hungry Jack Lake</td>\n",
       "      <td>-91.12</td>\n",
       "      <td>48.15</td>\n",
       "      <td>-91.12</td>\n",
       "      <td>48.15</td>\n",
       "      <td>453.0</td>\n",
       "      <td>NaN</td>\n",
       "      <td>NaN</td>\n",
       "      <td>NaN</td>\n",
       "      <td>...</td>\n",
       "      <td>10.1016/0033-5894(73)90004-5</td>\n",
       "      <td>[Quaternary Research]</td>\n",
       "      <td>2023-08-24 16:56:19.545532</td>\n",
       "      <td>Neotoma</td>\n",
       "      <td>No</td>\n",
       "      <td>Neotoma Article</td>\n",
       "      <td>SimonGoring</td>\n",
       "      <td>CrossRefQueryDate</td>\n",
       "      <td></td>\n",
       "      <td></td>\n",
       "    </tr>\n",
       "  </tbody>\n",
       "</table>\n",
       "<p>1 rows × 45 columns</p>\n",
       "</div>"
      ],
      "text/plain": [
       "   siteid          sitename  longitudeeast  latitudenorth  longitudewest  \\\n",
       "0     195  Hungry Jack Lake         -91.12          48.15         -91.12   \n",
       "\n",
       "   latitudesouth  altitude  area sitedescription notes  ...  \\\n",
       "0          48.15     453.0   NaN             NaN   NaN  ...   \n",
       "\n",
       "                            DOI        container-title  \\\n",
       "0  10.1016/0033-5894(73)90004-5  [Quaternary Research]   \n",
       "\n",
       "           CrossRefQueryDate    Label  Pre-Loaded      Description  \\\n",
       "0 2023-08-24 16:56:19.545532  Neotoma          No  Neotoma Article   \n",
       "\n",
       "       Profile          Timestamp journal keywords  \n",
       "0  SimonGoring  CrossRefQueryDate                   \n",
       "\n",
       "[1 rows x 45 columns]"
      ]
     },
     "execution_count": 49,
     "metadata": {},
     "output_type": "execute_result"
    }
   ],
   "source": [
    "neotomaFull.head(1)"
   ]
  },
  {
   "cell_type": "code",
   "execution_count": 57,
   "metadata": {},
   "outputs": [
    {
     "data": {
      "text/plain": [
       "Index(['ID', 'Text', 'pmid', 'doi', 'abstract_x', 'month', 'year', 'day',\n",
       "       'jabbrv', 'journal', 'keywords', 'lastname', 'firstname', 'address',\n",
       "       'email', 'Label', 'Pre-Loaded', 'Description', 'Profile', 'Timestamp',\n",
       "       'Verified', 'Verified By', 'Verified Timestamp', 'URL',\n",
       "       'is-referenced-by-count', 'language', 'subtitle', 'subject',\n",
       "       'published', 'title', 'publisher', 'author', 'abstract_y', 'DOI',\n",
       "       'container-title', 'CrossRefQueryDate'],\n",
       "      dtype='object')"
      ]
     },
     "execution_count": 57,
     "metadata": {},
     "output_type": "execute_result"
    }
   ],
   "source": [
    "pollenFull.columns"
   ]
  },
  {
   "cell_type": "code",
   "execution_count": 58,
   "metadata": {},
   "outputs": [
    {
     "data": {
      "text/html": [
       "<div>\n",
       "<style scoped>\n",
       "    .dataframe tbody tr th:only-of-type {\n",
       "        vertical-align: middle;\n",
       "    }\n",
       "\n",
       "    .dataframe tbody tr th {\n",
       "        vertical-align: top;\n",
       "    }\n",
       "\n",
       "    .dataframe thead th {\n",
       "        text-align: right;\n",
       "    }\n",
       "</style>\n",
       "<table border=\"1\" class=\"dataframe\">\n",
       "  <thead>\n",
       "    <tr style=\"text-align: right;\">\n",
       "      <th></th>\n",
       "      <th>ID</th>\n",
       "      <th>title</th>\n",
       "      <th>pmid</th>\n",
       "      <th>doi</th>\n",
       "      <th>abstract</th>\n",
       "      <th>month</th>\n",
       "      <th>year</th>\n",
       "      <th>day</th>\n",
       "      <th>jabbrv</th>\n",
       "      <th>journal</th>\n",
       "      <th>...</th>\n",
       "      <th>subtitle</th>\n",
       "      <th>subject</th>\n",
       "      <th>published</th>\n",
       "      <th>title</th>\n",
       "      <th>publisher</th>\n",
       "      <th>author</th>\n",
       "      <th>abstract_y</th>\n",
       "      <th>DOI</th>\n",
       "      <th>container-title</th>\n",
       "      <th>CrossRefQueryDate</th>\n",
       "    </tr>\n",
       "  </thead>\n",
       "  <tbody>\n",
       "    <tr>\n",
       "      <th>0</th>\n",
       "      <td>8</td>\n",
       "      <td>A recent Cannabis pollen increase on the Iberi...</td>\n",
       "      <td>37160180</td>\n",
       "      <td>10.1016/j.scitotenv.2023.163947</td>\n",
       "      <td>\"The continuous, varved and absolutely dated s...</td>\n",
       "      <td>5</td>\n",
       "      <td>2023</td>\n",
       "      <td>9</td>\n",
       "      <td>Sci Total Environ</td>\n",
       "      <td>The Science of the total environment</td>\n",
       "      <td>...</td>\n",
       "      <td>[]</td>\n",
       "      <td>[Pollution, Waste Management and Disposal, Env...</td>\n",
       "      <td>{'date-parts': [[2023, 8]]}</td>\n",
       "      <td>[A recent Cannabis pollen increase on the Iber...</td>\n",
       "      <td>Elsevier BV</td>\n",
       "      <td>[{'given': 'Valentí', 'family': 'Rull', 'seque...</td>\n",
       "      <td></td>\n",
       "      <td>10.1016/j.scitotenv.2023.163947</td>\n",
       "      <td>[Science of The Total Environment]</td>\n",
       "      <td>2023-08-24 17:21:07.227970</td>\n",
       "    </tr>\n",
       "  </tbody>\n",
       "</table>\n",
       "<p>1 rows × 36 columns</p>\n",
       "</div>"
      ],
      "text/plain": [
       "   ID                                              title      pmid  \\\n",
       "0   8  A recent Cannabis pollen increase on the Iberi...  37160180   \n",
       "\n",
       "                               doi  \\\n",
       "0  10.1016/j.scitotenv.2023.163947   \n",
       "\n",
       "                                            abstract  month  year  day  \\\n",
       "0  \"The continuous, varved and absolutely dated s...      5  2023    9   \n",
       "\n",
       "              jabbrv                               journal  ... subtitle  \\\n",
       "0  Sci Total Environ  The Science of the total environment  ...       []   \n",
       "\n",
       "                                             subject  \\\n",
       "0  [Pollution, Waste Management and Disposal, Env...   \n",
       "\n",
       "                     published  \\\n",
       "0  {'date-parts': [[2023, 8]]}   \n",
       "\n",
       "                                               title    publisher  \\\n",
       "0  [A recent Cannabis pollen increase on the Iber...  Elsevier BV   \n",
       "\n",
       "                                              author abstract_y  \\\n",
       "0  [{'given': 'Valentí', 'family': 'Rull', 'seque...              \n",
       "\n",
       "                               DOI                     container-title  \\\n",
       "0  10.1016/j.scitotenv.2023.163947  [Science of The Total Environment]   \n",
       "\n",
       "           CrossRefQueryDate  \n",
       "0 2023-08-24 17:21:07.227970  \n",
       "\n",
       "[1 rows x 36 columns]"
      ]
     },
     "execution_count": 58,
     "metadata": {},
     "output_type": "execute_result"
    }
   ],
   "source": [
    "pollenFull = pollenFull.rename(columns={'abstract_x': 'abstract'})\n",
    "pollenFull.head(1)"
   ]
  },
  {
   "cell_type": "code",
   "execution_count": 59,
   "metadata": {},
   "outputs": [],
   "source": [
    "cols_to_keep = ['doi', 'title',  'subtitle', 'abstract', 'journal', 'subject', \n",
    "                'keywords', 'author', 'publisher', 'published', 'URL', \n",
    "                'Description', 'Profile', 'Timestamp', 'language', \n",
    "                'is-referenced-by-count', 'CrossRefQueryDate','Label']"
   ]
  },
  {
   "cell_type": "code",
   "execution_count": 62,
   "metadata": {},
   "outputs": [],
   "source": [
    "pollenFull = pollenFull[cols_to_keep]"
   ]
  },
  {
   "cell_type": "code",
   "execution_count": 51,
   "metadata": {},
   "outputs": [],
   "source": [
    "neotomaFull = neotomaFull[cols_to_keep].reindex(columns=cols_to_keep, fill_value=pd.NA)"
   ]
  },
  {
   "cell_type": "code",
   "execution_count": 64,
   "metadata": {},
   "outputs": [
    {
     "data": {
      "text/plain": [
       "Index(['doi', 'title', 'subtitle', 'abstract', 'journal', 'subject',\n",
       "       'keywords', 'author', 'publisher', 'published', 'URL', 'Description',\n",
       "       'Profile', 'Timestamp', 'language', 'is-referenced-by-count',\n",
       "       'CrossRefQueryDate', 'Label'],\n",
       "      dtype='object')"
      ]
     },
     "execution_count": 64,
     "metadata": {},
     "output_type": "execute_result"
    }
   ],
   "source": [
    "neotomaFull.columns"
   ]
  },
  {
   "cell_type": "code",
   "execution_count": 65,
   "metadata": {},
   "outputs": [
    {
     "data": {
      "text/plain": [
       "Index(['doi', 'title', 'title', 'subtitle', 'abstract', 'journal', 'subject',\n",
       "       'keywords', 'author', 'publisher', 'published', 'URL', 'Description',\n",
       "       'Profile', 'Timestamp', 'language', 'is-referenced-by-count',\n",
       "       'CrossRefQueryDate', 'Label'],\n",
       "      dtype='object')"
      ]
     },
     "execution_count": 65,
     "metadata": {},
     "output_type": "execute_result"
    }
   ],
   "source": [
    "pollenFull.columns"
   ]
  },
  {
   "cell_type": "code",
   "execution_count": 63,
   "metadata": {},
   "outputs": [
    {
     "ename": "InvalidIndexError",
     "evalue": "Reindexing only valid with uniquely valued Index objects",
     "output_type": "error",
     "traceback": [
      "\u001b[0;31m---------------------------------------------------------------------------\u001b[0m",
      "\u001b[0;31mInvalidIndexError\u001b[0m                         Traceback (most recent call last)",
      "Cell \u001b[0;32mIn[63], line 1\u001b[0m\n\u001b[0;32m----> 1\u001b[0m pd\u001b[39m.\u001b[39;49mconcat([neotomaFull, pollenFull])\n",
      "File \u001b[0;32m~/HT-Data/UWisc/article-relevance/venv/lib/python3.11/site-packages/pandas/core/reshape/concat.py:385\u001b[0m, in \u001b[0;36mconcat\u001b[0;34m(objs, axis, join, ignore_index, keys, levels, names, verify_integrity, sort, copy)\u001b[0m\n\u001b[1;32m    370\u001b[0m     copy \u001b[39m=\u001b[39m \u001b[39mFalse\u001b[39;00m\n\u001b[1;32m    372\u001b[0m op \u001b[39m=\u001b[39m _Concatenator(\n\u001b[1;32m    373\u001b[0m     objs,\n\u001b[1;32m    374\u001b[0m     axis\u001b[39m=\u001b[39maxis,\n\u001b[0;32m   (...)\u001b[0m\n\u001b[1;32m    382\u001b[0m     sort\u001b[39m=\u001b[39msort,\n\u001b[1;32m    383\u001b[0m )\n\u001b[0;32m--> 385\u001b[0m \u001b[39mreturn\u001b[39;00m op\u001b[39m.\u001b[39;49mget_result()\n",
      "File \u001b[0;32m~/HT-Data/UWisc/article-relevance/venv/lib/python3.11/site-packages/pandas/core/reshape/concat.py:612\u001b[0m, in \u001b[0;36m_Concatenator.get_result\u001b[0;34m(self)\u001b[0m\n\u001b[1;32m    610\u001b[0m         obj_labels \u001b[39m=\u001b[39m obj\u001b[39m.\u001b[39maxes[\u001b[39m1\u001b[39m \u001b[39m-\u001b[39m ax]\n\u001b[1;32m    611\u001b[0m         \u001b[39mif\u001b[39;00m \u001b[39mnot\u001b[39;00m new_labels\u001b[39m.\u001b[39mequals(obj_labels):\n\u001b[0;32m--> 612\u001b[0m             indexers[ax] \u001b[39m=\u001b[39m obj_labels\u001b[39m.\u001b[39;49mget_indexer(new_labels)\n\u001b[1;32m    614\u001b[0m     mgrs_indexers\u001b[39m.\u001b[39mappend((obj\u001b[39m.\u001b[39m_mgr, indexers))\n\u001b[1;32m    616\u001b[0m new_data \u001b[39m=\u001b[39m concatenate_managers(\n\u001b[1;32m    617\u001b[0m     mgrs_indexers, \u001b[39mself\u001b[39m\u001b[39m.\u001b[39mnew_axes, concat_axis\u001b[39m=\u001b[39m\u001b[39mself\u001b[39m\u001b[39m.\u001b[39mbm_axis, copy\u001b[39m=\u001b[39m\u001b[39mself\u001b[39m\u001b[39m.\u001b[39mcopy\n\u001b[1;32m    618\u001b[0m )\n",
      "File \u001b[0;32m~/HT-Data/UWisc/article-relevance/venv/lib/python3.11/site-packages/pandas/core/indexes/base.py:3732\u001b[0m, in \u001b[0;36mIndex.get_indexer\u001b[0;34m(self, target, method, limit, tolerance)\u001b[0m\n\u001b[1;32m   3729\u001b[0m \u001b[39mself\u001b[39m\u001b[39m.\u001b[39m_check_indexing_method(method, limit, tolerance)\n\u001b[1;32m   3731\u001b[0m \u001b[39mif\u001b[39;00m \u001b[39mnot\u001b[39;00m \u001b[39mself\u001b[39m\u001b[39m.\u001b[39m_index_as_unique:\n\u001b[0;32m-> 3732\u001b[0m     \u001b[39mraise\u001b[39;00m InvalidIndexError(\u001b[39mself\u001b[39m\u001b[39m.\u001b[39m_requires_unique_msg)\n\u001b[1;32m   3734\u001b[0m \u001b[39mif\u001b[39;00m \u001b[39mlen\u001b[39m(target) \u001b[39m==\u001b[39m \u001b[39m0\u001b[39m:\n\u001b[1;32m   3735\u001b[0m     \u001b[39mreturn\u001b[39;00m np\u001b[39m.\u001b[39marray([], dtype\u001b[39m=\u001b[39mnp\u001b[39m.\u001b[39mintp)\n",
      "\u001b[0;31mInvalidIndexError\u001b[0m: Reindexing only valid with uniquely valued Index objects"
     ]
    }
   ],
   "source": [
    "pd.concat([neotomaFull, pollenFull])"
   ]
  },
  {
   "cell_type": "code",
   "execution_count": null,
   "metadata": {},
   "outputs": [],
   "source": []
  }
 ],
 "metadata": {
  "kernelspec": {
   "display_name": "venv",
   "language": "python",
   "name": "python3"
  },
  "language_info": {
   "codemirror_mode": {
    "name": "ipython",
    "version": 3
   },
   "file_extension": ".py",
   "mimetype": "text/x-python",
   "name": "python",
   "nbconvert_exporter": "python",
   "pygments_lexer": "ipython3",
   "version": "3.11.4"
  },
  "orig_nbformat": 4
 },
 "nbformat": 4,
 "nbformat_minor": 2
}
